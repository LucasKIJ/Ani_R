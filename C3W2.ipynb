{
 "cells": [
  {
   "cell_type": "code",
   "execution_count": 20,
   "metadata": {},
   "outputs": [],
   "source": [
    "Diabetes<-read.csv(file=\"final diabetes data for r.csv\", header=TRUE, sep=',')\n"
   ]
  },
  {
   "cell_type": "code",
   "execution_count": 21,
   "metadata": {},
   "outputs": [
    {
     "data": {
      "text/html": [
       "<table>\n",
       "<caption>A data.frame: 403 × 24</caption>\n",
       "<thead>\n",
       "\t<tr><th scope=col>X</th><th scope=col>id</th><th scope=col>chol</th><th scope=col>stab.glu</th><th scope=col>hdl</th><th scope=col>ratio</th><th scope=col>glyhb</th><th scope=col>location</th><th scope=col>age</th><th scope=col>gender</th><th scope=col>⋯</th><th scope=col>bp.1d</th><th scope=col>bp.2s</th><th scope=col>bp.2d</th><th scope=col>waist</th><th scope=col>hip</th><th scope=col>time.ppn</th><th scope=col>insurance</th><th scope=col>fh</th><th scope=col>smoking</th><th scope=col>dm</th></tr>\n",
       "\t<tr><th scope=col>&lt;int&gt;</th><th scope=col>&lt;int&gt;</th><th scope=col>&lt;int&gt;</th><th scope=col>&lt;int&gt;</th><th scope=col>&lt;int&gt;</th><th scope=col>&lt;dbl&gt;</th><th scope=col>&lt;dbl&gt;</th><th scope=col>&lt;fct&gt;</th><th scope=col>&lt;int&gt;</th><th scope=col>&lt;fct&gt;</th><th scope=col>⋯</th><th scope=col>&lt;int&gt;</th><th scope=col>&lt;int&gt;</th><th scope=col>&lt;int&gt;</th><th scope=col>&lt;int&gt;</th><th scope=col>&lt;int&gt;</th><th scope=col>&lt;int&gt;</th><th scope=col>&lt;int&gt;</th><th scope=col>&lt;int&gt;</th><th scope=col>&lt;int&gt;</th><th scope=col>&lt;fct&gt;</th></tr>\n",
       "</thead>\n",
       "<tbody>\n",
       "\t<tr><td> 1</td><td>1000</td><td>203</td><td> 82</td><td>56</td><td>3.6</td><td> 4.31</td><td>Buckingham</td><td>46</td><td>female</td><td>⋯</td><td> 59</td><td> NA</td><td> NA</td><td>29</td><td>38</td><td> 720</td><td>1</td><td>0</td><td>3</td><td>no </td></tr>\n",
       "\t<tr><td> 2</td><td>1001</td><td>165</td><td> 97</td><td>24</td><td>6.9</td><td> 4.44</td><td>Buckingham</td><td>29</td><td>female</td><td>⋯</td><td> 68</td><td> NA</td><td> NA</td><td>46</td><td>48</td><td> 360</td><td>0</td><td>0</td><td>2</td><td>no </td></tr>\n",
       "\t<tr><td> 3</td><td>1002</td><td>228</td><td> 92</td><td>37</td><td>6.2</td><td> 4.64</td><td>Buckingham</td><td>58</td><td>female</td><td>⋯</td><td> 92</td><td>185</td><td> 92</td><td>49</td><td>57</td><td> 180</td><td>2</td><td>0</td><td>2</td><td>no </td></tr>\n",
       "\t<tr><td> 4</td><td>1003</td><td> 78</td><td> 93</td><td>12</td><td>6.5</td><td> 4.63</td><td>Buckingham</td><td>67</td><td>male  </td><td>⋯</td><td> 50</td><td> NA</td><td> NA</td><td>33</td><td>38</td><td> 480</td><td>1</td><td>0</td><td>3</td><td>no </td></tr>\n",
       "\t<tr><td> 5</td><td>1005</td><td>249</td><td> 90</td><td>28</td><td>8.9</td><td> 7.72</td><td>Buckingham</td><td>64</td><td>male  </td><td>⋯</td><td> 80</td><td> NA</td><td> NA</td><td>44</td><td>41</td><td> 300</td><td>0</td><td>0</td><td>3</td><td>yes</td></tr>\n",
       "\t<tr><td> 6</td><td>1008</td><td>248</td><td> 94</td><td>69</td><td>3.6</td><td> 4.81</td><td>Buckingham</td><td>34</td><td>male  </td><td>⋯</td><td> 86</td><td> NA</td><td> NA</td><td>36</td><td>42</td><td> 195</td><td>1</td><td>0</td><td>1</td><td>no </td></tr>\n",
       "\t<tr><td> 7</td><td>1011</td><td>195</td><td> 92</td><td>41</td><td>4.8</td><td> 4.84</td><td>Buckingham</td><td>30</td><td>male  </td><td>⋯</td><td>112</td><td>161</td><td>112</td><td>46</td><td>49</td><td> 720</td><td>2</td><td>1</td><td>2</td><td>no </td></tr>\n",
       "\t<tr><td> 8</td><td>1015</td><td>227</td><td> 75</td><td>44</td><td>5.2</td><td> 3.94</td><td>Buckingham</td><td>37</td><td>male  </td><td>⋯</td><td> NA</td><td> NA</td><td> NA</td><td>34</td><td>39</td><td>1020</td><td>0</td><td>0</td><td>2</td><td>no </td></tr>\n",
       "\t<tr><td> 9</td><td>1016</td><td>177</td><td> 87</td><td>49</td><td>3.6</td><td> 4.84</td><td>Buckingham</td><td>45</td><td>male  </td><td>⋯</td><td> 80</td><td>128</td><td> 86</td><td>34</td><td>40</td><td> 300</td><td>2</td><td>1</td><td>1</td><td>no </td></tr>\n",
       "\t<tr><td>10</td><td>1022</td><td>263</td><td> 89</td><td>40</td><td>6.6</td><td> 5.78</td><td>Buckingham</td><td>55</td><td>female</td><td>⋯</td><td> 72</td><td> NA</td><td> NA</td><td>45</td><td>50</td><td> 240</td><td>2</td><td>0</td><td>2</td><td>no </td></tr>\n",
       "\t<tr><td>11</td><td>1024</td><td>242</td><td> 82</td><td>54</td><td>4.5</td><td> 4.77</td><td>Louisa    </td><td>60</td><td>female</td><td>⋯</td><td> 90</td><td>130</td><td> 90</td><td>39</td><td>45</td><td> 300</td><td>1</td><td>0</td><td>2</td><td>no </td></tr>\n",
       "\t<tr><td>12</td><td>1029</td><td>215</td><td>128</td><td>34</td><td>6.3</td><td> 4.97</td><td>Louisa    </td><td>38</td><td>female</td><td>⋯</td><td> 68</td><td> NA</td><td> NA</td><td>42</td><td>50</td><td>  90</td><td>0</td><td>0</td><td>2</td><td>no </td></tr>\n",
       "\t<tr><td>13</td><td>1030</td><td>238</td><td> 75</td><td>36</td><td>6.6</td><td> 4.47</td><td>Louisa    </td><td>27</td><td>female</td><td>⋯</td><td> 80</td><td> NA</td><td> NA</td><td>35</td><td>41</td><td> 720</td><td>0</td><td>0</td><td>1</td><td>no </td></tr>\n",
       "\t<tr><td>14</td><td>1031</td><td>183</td><td> 79</td><td>46</td><td>4.0</td><td> 4.59</td><td>Louisa    </td><td>40</td><td>female</td><td>⋯</td><td> NA</td><td> NA</td><td> NA</td><td>37</td><td>43</td><td>  60</td><td>2</td><td>0</td><td>1</td><td>no </td></tr>\n",
       "\t<tr><td>15</td><td>1035</td><td>191</td><td> 76</td><td>30</td><td>6.4</td><td> 4.67</td><td>Louisa    </td><td>36</td><td>male  </td><td>⋯</td><td> 66</td><td> NA</td><td> NA</td><td>36</td><td>40</td><td> 225</td><td>0</td><td>0</td><td>1</td><td>no </td></tr>\n",
       "\t<tr><td>16</td><td>1036</td><td>213</td><td> 83</td><td>47</td><td>4.5</td><td> 3.41</td><td>Louisa    </td><td>33</td><td>female</td><td>⋯</td><td> 90</td><td>120</td><td> 96</td><td>37</td><td>41</td><td> 240</td><td>0</td><td>1</td><td>2</td><td>no </td></tr>\n",
       "\t<tr><td>17</td><td>1037</td><td>255</td><td> 78</td><td>38</td><td>6.7</td><td> 4.33</td><td>Louisa    </td><td>50</td><td>female</td><td>⋯</td><td>100</td><td> NA</td><td> NA</td><td>37</td><td>43</td><td> 180</td><td>1</td><td>0</td><td>1</td><td>no </td></tr>\n",
       "\t<tr><td>18</td><td>1041</td><td>230</td><td>112</td><td>64</td><td>3.6</td><td> 4.53</td><td>Louisa    </td><td>20</td><td>male  </td><td>⋯</td><td> 90</td><td> NA</td><td> NA</td><td>31</td><td>39</td><td>1440</td><td>2</td><td>0</td><td>2</td><td>no </td></tr>\n",
       "\t<tr><td>19</td><td>1045</td><td>194</td><td> 81</td><td>36</td><td>5.4</td><td> 5.28</td><td>Louisa    </td><td>36</td><td>male  </td><td>⋯</td><td> 76</td><td> NA</td><td> NA</td><td>30</td><td>34</td><td> 120</td><td>1</td><td>0</td><td>1</td><td>no </td></tr>\n",
       "\t<tr><td>20</td><td>1250</td><td>196</td><td>206</td><td>41</td><td>4.8</td><td>11.24</td><td>Buckingham</td><td>62</td><td>female</td><td>⋯</td><td> 90</td><td> NA</td><td> NA</td><td>46</td><td>51</td><td> 540</td><td>0</td><td>0</td><td>2</td><td>yes</td></tr>\n",
       "\t<tr><td>21</td><td>1252</td><td>186</td><td> 97</td><td>50</td><td>3.7</td><td> 6.49</td><td>Buckingham</td><td>70</td><td>male  </td><td>⋯</td><td> 88</td><td>148</td><td> 84</td><td>42</td><td>41</td><td>1020</td><td>2</td><td>0</td><td>2</td><td>no </td></tr>\n",
       "\t<tr><td>22</td><td>1253</td><td>234</td><td> 65</td><td>76</td><td>3.1</td><td> 4.67</td><td>Buckingham</td><td>47</td><td>male  </td><td>⋯</td><td>100</td><td>149</td><td>110</td><td>45</td><td>46</td><td> 480</td><td>0</td><td>0</td><td>2</td><td>no </td></tr>\n",
       "\t<tr><td>23</td><td>1254</td><td>203</td><td>299</td><td>43</td><td>4.7</td><td>12.74</td><td>Buckingham</td><td>38</td><td>female</td><td>⋯</td><td> 83</td><td> NA</td><td> NA</td><td>48</td><td>55</td><td> 240</td><td>1</td><td>1</td><td>2</td><td>yes</td></tr>\n",
       "\t<tr><td>24</td><td>1256</td><td>281</td><td> 92</td><td>41</td><td>6.9</td><td> 5.56</td><td>Buckingham</td><td>66</td><td>female</td><td>⋯</td><td> 88</td><td>160</td><td> 88</td><td>48</td><td>44</td><td> 285</td><td>1</td><td>0</td><td>1</td><td>no </td></tr>\n",
       "\t<tr><td>25</td><td>1271</td><td>228</td><td> 66</td><td>45</td><td>5.1</td><td> 4.61</td><td>Buckingham</td><td>24</td><td>female</td><td>⋯</td><td> 70</td><td>110</td><td> 70</td><td>33</td><td>38</td><td> 210</td><td>2</td><td>0</td><td>1</td><td>no </td></tr>\n",
       "\t<tr><td>26</td><td>1277</td><td>179</td><td> 80</td><td>92</td><td>1.9</td><td> 4.18</td><td>Buckingham</td><td>41</td><td>female</td><td>⋯</td><td>112</td><td> NA</td><td> NA</td><td>28</td><td>36</td><td> 780</td><td>1</td><td>0</td><td>2</td><td>no </td></tr>\n",
       "\t<tr><td>27</td><td>1280</td><td>232</td><td> 87</td><td>30</td><td>7.7</td><td> 5.10</td><td>Buckingham</td><td>37</td><td>male  </td><td>⋯</td><td> 95</td><td> NA</td><td> NA</td><td>43</td><td>47</td><td> 420</td><td>1</td><td>1</td><td>2</td><td>no </td></tr>\n",
       "\t<tr><td>28</td><td>1281</td><td> NA</td><td> 74</td><td>NA</td><td> NA</td><td> 4.28</td><td>Buckingham</td><td>48</td><td>male  </td><td>⋯</td><td> 85</td><td> NA</td><td> NA</td><td>27</td><td>33</td><td> 510</td><td>0</td><td>1</td><td>1</td><td>no </td></tr>\n",
       "\t<tr><td>29</td><td>1282</td><td>254</td><td> 84</td><td>52</td><td>4.9</td><td> 4.52</td><td>Buckingham</td><td>43</td><td>female</td><td>⋯</td><td> 70</td><td> NA</td><td> NA</td><td>31</td><td>38</td><td> 720</td><td>2</td><td>0</td><td>3</td><td>no </td></tr>\n",
       "\t<tr><td>30</td><td>1285</td><td>215</td><td> 72</td><td>42</td><td>5.1</td><td> 4.37</td><td>Louisa    </td><td>40</td><td>male  </td><td>⋯</td><td>122</td><td>170</td><td>112</td><td>37</td><td>39</td><td> 450</td><td>0</td><td>0</td><td>2</td><td>no </td></tr>\n",
       "\t<tr><td>⋮</td><td>⋮</td><td>⋮</td><td>⋮</td><td>⋮</td><td>⋮</td><td>⋮</td><td>⋮</td><td>⋮</td><td>⋮</td><td>⋱</td><td>⋮</td><td>⋮</td><td>⋮</td><td>⋮</td><td>⋮</td><td>⋮</td><td>⋮</td><td>⋮</td><td>⋮</td><td>⋮</td></tr>\n",
       "\t<tr><td>374</td><td>40804</td><td>179</td><td>105</td><td> 60</td><td>3.0</td><td> 4.68</td><td>Louisa</td><td>20</td><td>female</td><td>⋯</td><td>100</td><td>138</td><td> 82</td><td>34</td><td>46</td><td> 270</td><td>2</td><td>0</td><td>2</td><td>no </td></tr>\n",
       "\t<tr><td>375</td><td>40805</td><td>202</td><td> 84</td><td> 33</td><td>6.1</td><td> 4.17</td><td>Louisa</td><td>44</td><td>male  </td><td>⋯</td><td> 80</td><td> NA</td><td> NA</td><td>33</td><td>37</td><td> 180</td><td>0</td><td>0</td><td>2</td><td>no </td></tr>\n",
       "\t<tr><td>376</td><td>41000</td><td>194</td><td> 87</td><td> 65</td><td>3.0</td><td> 4.14</td><td>Louisa</td><td>54</td><td>male  </td><td>⋯</td><td> 96</td><td>160</td><td> 94</td><td>30</td><td>37</td><td>  15</td><td>1</td><td>0</td><td>1</td><td>no </td></tr>\n",
       "\t<tr><td>377</td><td>41001</td><td>227</td><td> 85</td><td> 26</td><td>8.7</td><td> 4.98</td><td>Louisa</td><td>58</td><td>male  </td><td>⋯</td><td> 82</td><td>144</td><td> 80</td><td>38</td><td>43</td><td> 480</td><td>2</td><td>0</td><td>2</td><td>no </td></tr>\n",
       "\t<tr><td>378</td><td>41003</td><td>337</td><td> 85</td><td> 62</td><td>5.4</td><td> 4.66</td><td>Louisa</td><td>35</td><td>male  </td><td>⋯</td><td> 84</td><td> NA</td><td> NA</td><td>36</td><td>44</td><td> 240</td><td>0</td><td>0</td><td>1</td><td>no </td></tr>\n",
       "\t<tr><td>379</td><td>41004</td><td>255</td><td> 83</td><td> 90</td><td>2.8</td><td> 4.29</td><td>Louisa</td><td>52</td><td>male  </td><td>⋯</td><td>110</td><td>166</td><td>108</td><td>30</td><td>33</td><td> 780</td><td>2</td><td>1</td><td>3</td><td>no </td></tr>\n",
       "\t<tr><td>380</td><td>41021</td><td>162</td><td> 90</td><td> 46</td><td>3.5</td><td> 5.56</td><td>Louisa</td><td>60</td><td>female</td><td>⋯</td><td> 64</td><td> NA</td><td> NA</td><td>32</td><td>34</td><td> 300</td><td>2</td><td>0</td><td>2</td><td>no </td></tr>\n",
       "\t<tr><td>381</td><td>41023</td><td>322</td><td> 87</td><td> 92</td><td>3.5</td><td> 4.45</td><td>Louisa</td><td>43</td><td>female</td><td>⋯</td><td> 98</td><td>122</td><td>100</td><td>32</td><td>41</td><td>  60</td><td>0</td><td>0</td><td>2</td><td>no </td></tr>\n",
       "\t<tr><td>382</td><td>41029</td><td>289</td><td>267</td><td> 38</td><td>7.6</td><td>11.41</td><td>Louisa</td><td>59</td><td>male  </td><td>⋯</td><td> 79</td><td> NA</td><td> NA</td><td>36</td><td>38</td><td> 900</td><td>0</td><td>0</td><td>3</td><td>yes</td></tr>\n",
       "\t<tr><td>383</td><td>41034</td><td>217</td><td> 87</td><td> 40</td><td>5.4</td><td> 4.07</td><td>Louisa</td><td>33</td><td>female</td><td>⋯</td><td> 90</td><td>138</td><td> 84</td><td>42</td><td>46</td><td>  40</td><td>1</td><td>0</td><td>2</td><td>no </td></tr>\n",
       "\t<tr><td>384</td><td>41035</td><td>209</td><td> 91</td><td> 36</td><td>5.8</td><td> 5.01</td><td>Louisa</td><td>37</td><td>male  </td><td>⋯</td><td> 94</td><td>130</td><td> 88</td><td>42</td><td>48</td><td> 450</td><td>1</td><td>0</td><td>3</td><td>no </td></tr>\n",
       "\t<tr><td>385</td><td>41036</td><td>214</td><td> 77</td><td> 48</td><td>4.5</td><td> 4.48</td><td>Louisa</td><td>40</td><td>male  </td><td>⋯</td><td> 84</td><td> NA</td><td> NA</td><td>40</td><td>44</td><td>1020</td><td>2</td><td>1</td><td>3</td><td>no </td></tr>\n",
       "\t<tr><td>386</td><td>41037</td><td>302</td><td> 81</td><td> 57</td><td>5.3</td><td> 4.65</td><td>Louisa</td><td>38</td><td>female</td><td>⋯</td><td> 82</td><td> NA</td><td> NA</td><td>41</td><td>51</td><td> 210</td><td>2</td><td>0</td><td>2</td><td>no </td></tr>\n",
       "\t<tr><td>387</td><td>41039</td><td>179</td><td> 85</td><td> 52</td><td>3.4</td><td> 4.05</td><td>Louisa</td><td>32</td><td>female</td><td>⋯</td><td> 96</td><td>148</td><td>100</td><td>37</td><td>47</td><td>  60</td><td>2</td><td>1</td><td>1</td><td>no </td></tr>\n",
       "\t<tr><td>388</td><td>41041</td><td>279</td><td>270</td><td> 40</td><td>7.0</td><td> 8.11</td><td>Louisa</td><td>60</td><td>female</td><td>⋯</td><td> 90</td><td>174</td><td> 84</td><td>48</td><td>50</td><td> 180</td><td>1</td><td>1</td><td>1</td><td>yes</td></tr>\n",
       "\t<tr><td>389</td><td>41055</td><td>144</td><td> 81</td><td> 28</td><td>5.1</td><td> 4.13</td><td>Louisa</td><td>30</td><td>male  </td><td>⋯</td><td> 78</td><td> NA</td><td> NA</td><td>31</td><td>38</td><td> 180</td><td>2</td><td>1</td><td>1</td><td>no </td></tr>\n",
       "\t<tr><td>390</td><td>41063</td><td>270</td><td> 73</td><td> 40</td><td>6.8</td><td> 3.58</td><td>Louisa</td><td>42</td><td>male  </td><td>⋯</td><td> 94</td><td>149</td><td> 94</td><td>39</td><td>41</td><td>  30</td><td>0</td><td>0</td><td>2</td><td>no </td></tr>\n",
       "\t<tr><td>391</td><td>41065</td><td>196</td><td>120</td><td> 67</td><td>2.9</td><td> 9.37</td><td>Louisa</td><td>52</td><td>female</td><td>⋯</td><td> 94</td><td>142</td><td> 92</td><td>34</td><td>42</td><td> 480</td><td>2</td><td>0</td><td>1</td><td>yes</td></tr>\n",
       "\t<tr><td>392</td><td>41075</td><td>221</td><td>126</td><td> 48</td><td>4.6</td><td> 5.53</td><td>Louisa</td><td>59</td><td>female</td><td>⋯</td><td> 78</td><td> NA</td><td> NA</td><td>39</td><td>45</td><td>  60</td><td>2</td><td>0</td><td>1</td><td>no </td></tr>\n",
       "\t<tr><td>393</td><td>41078</td><td>210</td><td> 81</td><td> 81</td><td>2.6</td><td> 4.96</td><td>Louisa</td><td>78</td><td>male  </td><td>⋯</td><td> 70</td><td> NA</td><td> NA</td><td>38</td><td>39</td><td> 540</td><td>1</td><td>1</td><td>2</td><td>no </td></tr>\n",
       "\t<tr><td>394</td><td>41253</td><td>192</td><td> 85</td><td> 69</td><td>2.8</td><td> 4.38</td><td>Louisa</td><td>51</td><td>male  </td><td>⋯</td><td>110</td><td>170</td><td>118</td><td>NA</td><td>NA</td><td>  60</td><td>0</td><td>0</td><td>3</td><td>no </td></tr>\n",
       "\t<tr><td>395</td><td>41254</td><td>169</td><td>104</td><td> 58</td><td>2.9</td><td> 4.82</td><td>Louisa</td><td>25</td><td>female</td><td>⋯</td><td> 95</td><td>130</td><td> 94</td><td>40</td><td>42</td><td>  60</td><td>0</td><td>0</td><td>2</td><td>no </td></tr>\n",
       "\t<tr><td>396</td><td>41500</td><td>179</td><td> 85</td><td> 50</td><td>3.6</td><td> 4.99</td><td>Louisa</td><td>37</td><td>male  </td><td>⋯</td><td> 94</td><td>172</td><td>100</td><td>33</td><td>39</td><td> 480</td><td>0</td><td>0</td><td>2</td><td>no </td></tr>\n",
       "\t<tr><td>397</td><td>41501</td><td>216</td><td> 84</td><td> 64</td><td>3.4</td><td>   NA</td><td>Louisa</td><td>54</td><td>female</td><td>⋯</td><td> 90</td><td>126</td><td> 80</td><td>38</td><td>42</td><td> 330</td><td>2</td><td>0</td><td>1</td><td>NA </td></tr>\n",
       "\t<tr><td>398</td><td>41503</td><td>301</td><td> 90</td><td>118</td><td>2.6</td><td> 4.28</td><td>Louisa</td><td>89</td><td>female</td><td>⋯</td><td> 90</td><td>238</td><td> 90</td><td>31</td><td>41</td><td> 210</td><td>1</td><td>0</td><td>3</td><td>no </td></tr>\n",
       "\t<tr><td>399</td><td>41506</td><td>296</td><td>369</td><td> 46</td><td>6.4</td><td>16.11</td><td>Louisa</td><td>53</td><td>male  </td><td>⋯</td><td> 94</td><td>130</td><td> 94</td><td>35</td><td>39</td><td> 210</td><td>2</td><td>0</td><td>1</td><td>yes</td></tr>\n",
       "\t<tr><td>400</td><td>41507</td><td>284</td><td> 89</td><td> 54</td><td>5.3</td><td> 4.39</td><td>Louisa</td><td>51</td><td>female</td><td>⋯</td><td>100</td><td>146</td><td>102</td><td>32</td><td>43</td><td> 180</td><td>2</td><td>0</td><td>3</td><td>no </td></tr>\n",
       "\t<tr><td>401</td><td>41510</td><td>194</td><td>269</td><td> 38</td><td>5.1</td><td>13.63</td><td>Louisa</td><td>29</td><td>female</td><td>⋯</td><td> 70</td><td> NA</td><td> NA</td><td>33</td><td>40</td><td>  20</td><td>0</td><td>1</td><td>2</td><td>yes</td></tr>\n",
       "\t<tr><td>402</td><td>41752</td><td>199</td><td> 76</td><td> 52</td><td>3.8</td><td> 4.49</td><td>Louisa</td><td>41</td><td>female</td><td>⋯</td><td> 78</td><td> NA</td><td> NA</td><td>41</td><td>48</td><td> 255</td><td>2</td><td>0</td><td>2</td><td>no </td></tr>\n",
       "\t<tr><td>403</td><td>41756</td><td>159</td><td> 88</td><td> 79</td><td>2.0</td><td>   NA</td><td>Louisa</td><td>68</td><td>female</td><td>⋯</td><td> 72</td><td> NA</td><td> NA</td><td>49</td><td>58</td><td> 900</td><td>0</td><td>0</td><td>1</td><td>NA </td></tr>\n",
       "</tbody>\n",
       "</table>\n"
      ],
      "text/latex": [
       "A data.frame: 403 × 24\n",
       "\\begin{tabular}{r|llllllllllllllllllllllll}\n",
       " X & id & chol & stab.glu & hdl & ratio & glyhb & location & age & gender & height & weight & frame & bp.1s & bp.1d & bp.2s & bp.2d & waist & hip & time.ppn & insurance & fh & smoking & dm\\\\\n",
       " <int> & <int> & <int> & <int> & <int> & <dbl> & <dbl> & <fct> & <int> & <fct> & <int> & <int> & <fct> & <int> & <int> & <int> & <int> & <int> & <int> & <int> & <int> & <int> & <int> & <fct>\\\\\n",
       "\\hline\n",
       "\t  1 & 1000 & 203 &  82 & 56 & 3.6 &  4.31 & Buckingham & 46 & female & 62 & 121 & medium & 118 &  59 &  NA &  NA & 29 & 38 &  720 & 1 & 0 & 3 & no \\\\\n",
       "\t  2 & 1001 & 165 &  97 & 24 & 6.9 &  4.44 & Buckingham & 29 & female & 64 & 218 & large  & 112 &  68 &  NA &  NA & 46 & 48 &  360 & 0 & 0 & 2 & no \\\\\n",
       "\t  3 & 1002 & 228 &  92 & 37 & 6.2 &  4.64 & Buckingham & 58 & female & 61 & 256 & large  & 190 &  92 & 185 &  92 & 49 & 57 &  180 & 2 & 0 & 2 & no \\\\\n",
       "\t  4 & 1003 &  78 &  93 & 12 & 6.5 &  4.63 & Buckingham & 67 & male   & 67 & 119 & large  & 110 &  50 &  NA &  NA & 33 & 38 &  480 & 1 & 0 & 3 & no \\\\\n",
       "\t  5 & 1005 & 249 &  90 & 28 & 8.9 &  7.72 & Buckingham & 64 & male   & 68 & 183 & medium & 138 &  80 &  NA &  NA & 44 & 41 &  300 & 0 & 0 & 3 & yes\\\\\n",
       "\t  6 & 1008 & 248 &  94 & 69 & 3.6 &  4.81 & Buckingham & 34 & male   & 71 & 190 & large  & 132 &  86 &  NA &  NA & 36 & 42 &  195 & 1 & 0 & 1 & no \\\\\n",
       "\t  7 & 1011 & 195 &  92 & 41 & 4.8 &  4.84 & Buckingham & 30 & male   & 69 & 191 & medium & 161 & 112 & 161 & 112 & 46 & 49 &  720 & 2 & 1 & 2 & no \\\\\n",
       "\t  8 & 1015 & 227 &  75 & 44 & 5.2 &  3.94 & Buckingham & 37 & male   & 59 & 170 & medium &  NA &  NA &  NA &  NA & 34 & 39 & 1020 & 0 & 0 & 2 & no \\\\\n",
       "\t  9 & 1016 & 177 &  87 & 49 & 3.6 &  4.84 & Buckingham & 45 & male   & 69 & 166 & large  & 160 &  80 & 128 &  86 & 34 & 40 &  300 & 2 & 1 & 1 & no \\\\\n",
       "\t 10 & 1022 & 263 &  89 & 40 & 6.6 &  5.78 & Buckingham & 55 & female & 63 & 202 & small  & 108 &  72 &  NA &  NA & 45 & 50 &  240 & 2 & 0 & 2 & no \\\\\n",
       "\t 11 & 1024 & 242 &  82 & 54 & 4.5 &  4.77 & Louisa     & 60 & female & 65 & 156 & medium & 130 &  90 & 130 &  90 & 39 & 45 &  300 & 1 & 0 & 2 & no \\\\\n",
       "\t 12 & 1029 & 215 & 128 & 34 & 6.3 &  4.97 & Louisa     & 38 & female & 58 & 195 & medium & 102 &  68 &  NA &  NA & 42 & 50 &   90 & 0 & 0 & 2 & no \\\\\n",
       "\t 13 & 1030 & 238 &  75 & 36 & 6.6 &  4.47 & Louisa     & 27 & female & 60 & 170 & medium & 130 &  80 &  NA &  NA & 35 & 41 &  720 & 0 & 0 & 1 & no \\\\\n",
       "\t 14 & 1031 & 183 &  79 & 46 & 4.0 &  4.59 & Louisa     & 40 & female & 59 & 165 & medium &  NA &  NA &  NA &  NA & 37 & 43 &   60 & 2 & 0 & 1 & no \\\\\n",
       "\t 15 & 1035 & 191 &  76 & 30 & 6.4 &  4.67 & Louisa     & 36 & male   & 69 & 183 & medium & 100 &  66 &  NA &  NA & 36 & 40 &  225 & 0 & 0 & 1 & no \\\\\n",
       "\t 16 & 1036 & 213 &  83 & 47 & 4.5 &  3.41 & Louisa     & 33 & female & 65 & 157 & medium & 130 &  90 & 120 &  96 & 37 & 41 &  240 & 0 & 1 & 2 & no \\\\\n",
       "\t 17 & 1037 & 255 &  78 & 38 & 6.7 &  4.33 & Louisa     & 50 & female & 65 & 183 & medium & 130 & 100 &  NA &  NA & 37 & 43 &  180 & 1 & 0 & 1 & no \\\\\n",
       "\t 18 & 1041 & 230 & 112 & 64 & 3.6 &  4.53 & Louisa     & 20 & male   & 67 & 159 & medium & 100 &  90 &  NA &  NA & 31 & 39 & 1440 & 2 & 0 & 2 & no \\\\\n",
       "\t 19 & 1045 & 194 &  81 & 36 & 5.4 &  5.28 & Louisa     & 36 & male   & 64 & 126 & medium & 110 &  76 &  NA &  NA & 30 & 34 &  120 & 1 & 0 & 1 & no \\\\\n",
       "\t 20 & 1250 & 196 & 206 & 41 & 4.8 & 11.24 & Buckingham & 62 & female & 65 & 196 & large  & 178 &  90 &  NA &  NA & 46 & 51 &  540 & 0 & 0 & 2 & yes\\\\\n",
       "\t 21 & 1252 & 186 &  97 & 50 & 3.7 &  6.49 & Buckingham & 70 & male   & 67 & 178 & large  & 148 &  88 & 148 &  84 & 42 & 41 & 1020 & 2 & 0 & 2 & no \\\\\n",
       "\t 22 & 1253 & 234 &  65 & 76 & 3.1 &  4.67 & Buckingham & 47 & male   & 67 & 230 & large  & 137 & 100 & 149 & 110 & 45 & 46 &  480 & 0 & 0 & 2 & no \\\\\n",
       "\t 23 & 1254 & 203 & 299 & 43 & 4.7 & 12.74 & Buckingham & 38 & female & 69 & 288 & large  & 136 &  83 &  NA &  NA & 48 & 55 &  240 & 1 & 1 & 2 & yes\\\\\n",
       "\t 24 & 1256 & 281 &  92 & 41 & 6.9 &  5.56 & Buckingham & 66 & female & 62 & 185 & large  & 158 &  88 & 160 &  88 & 48 & 44 &  285 & 1 & 0 & 1 & no \\\\\n",
       "\t 25 & 1271 & 228 &  66 & 45 & 5.1 &  4.61 & Buckingham & 24 & female & 61 & 113 & medium & 100 &  70 & 110 &  70 & 33 & 38 &  210 & 2 & 0 & 1 & no \\\\\n",
       "\t 26 & 1277 & 179 &  80 & 92 & 1.9 &  4.18 & Buckingham & 41 & female & 72 & 118 & small  & 144 & 112 &  NA &  NA & 28 & 36 &  780 & 1 & 0 & 2 & no \\\\\n",
       "\t 27 & 1280 & 232 &  87 & 30 & 7.7 &  5.10 & Buckingham & 37 & male   & 68 & 252 & large  & 140 &  95 &  NA &  NA & 43 & 47 &  420 & 1 & 1 & 2 & no \\\\\n",
       "\t 28 & 1281 &  NA &  74 & NA &  NA &  4.28 & Buckingham & 48 & male   & 68 & 100 & small  & 120 &  85 &  NA &  NA & 27 & 33 &  510 & 0 & 1 & 1 & no \\\\\n",
       "\t 29 & 1282 & 254 &  84 & 52 & 4.9 &  4.52 & Buckingham & 43 & female & 62 & 145 & medium & 125 &  70 &  NA &  NA & 31 & 38 &  720 & 2 & 0 & 3 & no \\\\\n",
       "\t 30 & 1285 & 215 &  72 & 42 & 5.1 &  4.37 & Louisa     & 40 & male   & 70 & 189 & medium & 180 & 122 & 170 & 112 & 37 & 39 &  450 & 0 & 0 & 2 & no \\\\\n",
       "\t ⋮ & ⋮ & ⋮ & ⋮ & ⋮ & ⋮ & ⋮ & ⋮ & ⋮ & ⋮ & ⋮ & ⋮ & ⋮ & ⋮ & ⋮ & ⋮ & ⋮ & ⋮ & ⋮ & ⋮ & ⋮ & ⋮ & ⋮ & ⋮\\\\\n",
       "\t 374 & 40804 & 179 & 105 &  60 & 3.0 &  4.68 & Louisa & 20 & female & 58 & 170 & medium & 140 & 100 & 138 &  82 & 34 & 46 &  270 & 2 & 0 & 2 & no \\\\\n",
       "\t 375 & 40805 & 202 &  84 &  33 & 6.1 &  4.17 & Louisa & 44 & male   & 68 & 157 & small  & 125 &  80 &  NA &  NA & 33 & 37 &  180 & 0 & 0 & 2 & no \\\\\n",
       "\t 376 & 41000 & 194 &  87 &  65 & 3.0 &  4.14 & Louisa & 54 & male   & 69 & 129 & small  & 170 &  96 & 160 &  94 & 30 & 37 &   15 & 1 & 0 & 1 & no \\\\\n",
       "\t 377 & 41001 & 227 &  85 &  26 & 8.7 &  4.98 & Louisa & 58 & male   & 70 & 211 & large  & 144 &  82 & 144 &  80 & 38 & 43 &  480 & 2 & 0 & 2 & no \\\\\n",
       "\t 378 & 41003 & 337 &  85 &  62 & 5.4 &  4.66 & Louisa & 35 & male   & 72 & 189 & medium & 124 &  84 &  NA &  NA & 36 & 44 &  240 & 0 & 0 & 1 & no \\\\\n",
       "\t 379 & 41004 & 255 &  83 &  90 & 2.8 &  4.29 & Louisa & 52 & male   & 70 & 120 & medium & 170 & 110 & 166 & 108 & 30 & 33 &  780 & 2 & 1 & 3 & no \\\\\n",
       "\t 380 & 41021 & 162 &  90 &  46 & 3.5 &  5.56 & Louisa & 60 & female & 63 & 121 & medium & 110 &  64 &  NA &  NA & 32 & 34 &  300 & 2 & 0 & 2 & no \\\\\n",
       "\t 381 & 41023 & 322 &  87 &  92 & 3.5 &  4.45 & Louisa & 43 & female & 56 & 120 &        & 120 &  98 & 122 & 100 & 32 & 41 &   60 & 0 & 0 & 2 & no \\\\\n",
       "\t 382 & 41029 & 289 & 267 &  38 & 7.6 & 11.41 & Louisa & 59 & male   & 68 & 169 & large  & 142 &  79 &  NA &  NA & 36 & 38 &  900 & 0 & 0 & 3 & yes\\\\\n",
       "\t 383 & 41034 & 217 &  87 &  40 & 5.4 &  4.07 & Louisa & 33 & female & 62 & 186 & small  & 140 &  90 & 138 &  84 & 42 & 46 &   40 & 1 & 0 & 2 & no \\\\\n",
       "\t 384 & 41035 & 209 &  91 &  36 & 5.8 &  5.01 & Louisa & 37 & male   & 70 & 262 & medium & 130 &  94 & 130 &  88 & 42 & 48 &  450 & 1 & 0 & 3 & no \\\\\n",
       "\t 385 & 41036 & 214 &  77 &  48 & 4.5 &  4.48 & Louisa & 40 & male   & 72 & 222 & medium & 120 &  84 &  NA &  NA & 40 & 44 & 1020 & 2 & 1 & 3 & no \\\\\n",
       "\t 386 & 41037 & 302 &  81 &  57 & 5.3 &  4.65 & Louisa & 38 & female & 67 & 222 & medium & 128 &  82 &  NA &  NA & 41 & 51 &  210 & 2 & 0 & 2 & no \\\\\n",
       "\t 387 & 41039 & 179 &  85 &  52 & 3.4 &  4.05 & Louisa & 32 & female & 62 & 179 & medium & 140 &  96 & 148 & 100 & 37 & 47 &   60 & 2 & 1 & 1 & no \\\\\n",
       "\t 388 & 41041 & 279 & 270 &  40 & 7.0 &  8.11 & Louisa & 60 & female & 68 & 224 & large  & 174 &  90 & 174 &  84 & 48 & 50 &  180 & 1 & 1 & 1 & yes\\\\\n",
       "\t 389 & 41055 & 144 &  81 &  28 & 5.1 &  4.13 & Louisa & 30 & male   & 72 & 165 & small  & 118 &  78 &  NA &  NA & 31 & 38 &  180 & 2 & 1 & 1 & no \\\\\n",
       "\t 390 & 41063 & 270 &  73 &  40 & 6.8 &  3.58 & Louisa & 42 & male   & 66 & 185 & large  & 146 &  94 & 149 &  94 & 39 & 41 &   30 & 0 & 0 & 2 & no \\\\\n",
       "\t 391 & 41065 & 196 & 120 &  67 & 2.9 &  9.37 & Louisa & 52 & female & 62 & 147 & medium & 144 &  94 & 142 &  92 & 34 & 42 &  480 & 2 & 0 & 1 & yes\\\\\n",
       "\t 392 & 41075 & 221 & 126 &  48 & 4.6 &  5.53 & Louisa & 59 & female & 62 & 177 & medium & 130 &  78 &  NA &  NA & 39 & 45 &   60 & 2 & 0 & 1 & no \\\\\n",
       "\t 393 & 41078 & 210 &  81 &  81 & 2.6 &  4.96 & Louisa & 78 & male   & 66 & 145 & large  & 110 &  70 &  NA &  NA & 38 & 39 &  540 & 1 & 1 & 2 & no \\\\\n",
       "\t 394 & 41253 & 192 &  85 &  69 & 2.8 &  4.38 & Louisa & 51 & male   & 65 & 146 & large  & 130 & 110 & 170 & 118 & NA & NA &   60 & 0 & 0 & 3 & no \\\\\n",
       "\t 395 & 41254 & 169 & 104 &  58 & 2.9 &  4.82 & Louisa & 25 & female & 60 & 154 & medium & 140 &  95 & 130 &  94 & 40 & 42 &   60 & 0 & 0 & 2 & no \\\\\n",
       "\t 396 & 41500 & 179 &  85 &  50 & 3.6 &  4.99 & Louisa & 37 & male   & 66 & 136 & medium & 190 &  94 & 172 & 100 & 33 & 39 &  480 & 0 & 0 & 2 & no \\\\\n",
       "\t 397 & 41501 & 216 &  84 &  64 & 3.4 &    NA & Louisa & 54 & female & 66 & 168 & medium & 132 &  90 & 126 &  80 & 38 & 42 &  330 & 2 & 0 & 1 & NA \\\\\n",
       "\t 398 & 41503 & 301 &  90 & 118 & 2.6 &  4.28 & Louisa & 89 & female & 61 & 115 & medium & 218 &  90 & 238 &  90 & 31 & 41 &  210 & 1 & 0 & 3 & no \\\\\n",
       "\t 399 & 41506 & 296 & 369 &  46 & 6.4 & 16.11 & Louisa & 53 & male   & 69 & 173 & medium & 138 &  94 & 130 &  94 & 35 & 39 &  210 & 2 & 0 & 1 & yes\\\\\n",
       "\t 400 & 41507 & 284 &  89 &  54 & 5.3 &  4.39 & Louisa & 51 & female & 63 & 154 & medium & 140 & 100 & 146 & 102 & 32 & 43 &  180 & 2 & 0 & 3 & no \\\\\n",
       "\t 401 & 41510 & 194 & 269 &  38 & 5.1 & 13.63 & Louisa & 29 & female & 69 & 167 & small  & 120 &  70 &  NA &  NA & 33 & 40 &   20 & 0 & 1 & 2 & yes\\\\\n",
       "\t 402 & 41752 & 199 &  76 &  52 & 3.8 &  4.49 & Louisa & 41 & female & 63 & 197 & medium & 120 &  78 &  NA &  NA & 41 & 48 &  255 & 2 & 0 & 2 & no \\\\\n",
       "\t 403 & 41756 & 159 &  88 &  79 & 2.0 &    NA & Louisa & 68 & female & 64 & 220 & medium & 100 &  72 &  NA &  NA & 49 & 58 &  900 & 0 & 0 & 1 & NA \\\\\n",
       "\\end{tabular}\n"
      ],
      "text/markdown": [
       "\n",
       "A data.frame: 403 × 24\n",
       "\n",
       "| X &lt;int&gt; | id &lt;int&gt; | chol &lt;int&gt; | stab.glu &lt;int&gt; | hdl &lt;int&gt; | ratio &lt;dbl&gt; | glyhb &lt;dbl&gt; | location &lt;fct&gt; | age &lt;int&gt; | gender &lt;fct&gt; | ⋯ ⋯ | bp.1d &lt;int&gt; | bp.2s &lt;int&gt; | bp.2d &lt;int&gt; | waist &lt;int&gt; | hip &lt;int&gt; | time.ppn &lt;int&gt; | insurance &lt;int&gt; | fh &lt;int&gt; | smoking &lt;int&gt; | dm &lt;fct&gt; |\n",
       "|---|---|---|---|---|---|---|---|---|---|---|---|---|---|---|---|---|---|---|---|---|\n",
       "|  1 | 1000 | 203 |  82 | 56 | 3.6 |  4.31 | Buckingham | 46 | female | ⋯ |  59 |  NA |  NA | 29 | 38 |  720 | 1 | 0 | 3 | no  |\n",
       "|  2 | 1001 | 165 |  97 | 24 | 6.9 |  4.44 | Buckingham | 29 | female | ⋯ |  68 |  NA |  NA | 46 | 48 |  360 | 0 | 0 | 2 | no  |\n",
       "|  3 | 1002 | 228 |  92 | 37 | 6.2 |  4.64 | Buckingham | 58 | female | ⋯ |  92 | 185 |  92 | 49 | 57 |  180 | 2 | 0 | 2 | no  |\n",
       "|  4 | 1003 |  78 |  93 | 12 | 6.5 |  4.63 | Buckingham | 67 | male   | ⋯ |  50 |  NA |  NA | 33 | 38 |  480 | 1 | 0 | 3 | no  |\n",
       "|  5 | 1005 | 249 |  90 | 28 | 8.9 |  7.72 | Buckingham | 64 | male   | ⋯ |  80 |  NA |  NA | 44 | 41 |  300 | 0 | 0 | 3 | yes |\n",
       "|  6 | 1008 | 248 |  94 | 69 | 3.6 |  4.81 | Buckingham | 34 | male   | ⋯ |  86 |  NA |  NA | 36 | 42 |  195 | 1 | 0 | 1 | no  |\n",
       "|  7 | 1011 | 195 |  92 | 41 | 4.8 |  4.84 | Buckingham | 30 | male   | ⋯ | 112 | 161 | 112 | 46 | 49 |  720 | 2 | 1 | 2 | no  |\n",
       "|  8 | 1015 | 227 |  75 | 44 | 5.2 |  3.94 | Buckingham | 37 | male   | ⋯ |  NA |  NA |  NA | 34 | 39 | 1020 | 0 | 0 | 2 | no  |\n",
       "|  9 | 1016 | 177 |  87 | 49 | 3.6 |  4.84 | Buckingham | 45 | male   | ⋯ |  80 | 128 |  86 | 34 | 40 |  300 | 2 | 1 | 1 | no  |\n",
       "| 10 | 1022 | 263 |  89 | 40 | 6.6 |  5.78 | Buckingham | 55 | female | ⋯ |  72 |  NA |  NA | 45 | 50 |  240 | 2 | 0 | 2 | no  |\n",
       "| 11 | 1024 | 242 |  82 | 54 | 4.5 |  4.77 | Louisa     | 60 | female | ⋯ |  90 | 130 |  90 | 39 | 45 |  300 | 1 | 0 | 2 | no  |\n",
       "| 12 | 1029 | 215 | 128 | 34 | 6.3 |  4.97 | Louisa     | 38 | female | ⋯ |  68 |  NA |  NA | 42 | 50 |   90 | 0 | 0 | 2 | no  |\n",
       "| 13 | 1030 | 238 |  75 | 36 | 6.6 |  4.47 | Louisa     | 27 | female | ⋯ |  80 |  NA |  NA | 35 | 41 |  720 | 0 | 0 | 1 | no  |\n",
       "| 14 | 1031 | 183 |  79 | 46 | 4.0 |  4.59 | Louisa     | 40 | female | ⋯ |  NA |  NA |  NA | 37 | 43 |   60 | 2 | 0 | 1 | no  |\n",
       "| 15 | 1035 | 191 |  76 | 30 | 6.4 |  4.67 | Louisa     | 36 | male   | ⋯ |  66 |  NA |  NA | 36 | 40 |  225 | 0 | 0 | 1 | no  |\n",
       "| 16 | 1036 | 213 |  83 | 47 | 4.5 |  3.41 | Louisa     | 33 | female | ⋯ |  90 | 120 |  96 | 37 | 41 |  240 | 0 | 1 | 2 | no  |\n",
       "| 17 | 1037 | 255 |  78 | 38 | 6.7 |  4.33 | Louisa     | 50 | female | ⋯ | 100 |  NA |  NA | 37 | 43 |  180 | 1 | 0 | 1 | no  |\n",
       "| 18 | 1041 | 230 | 112 | 64 | 3.6 |  4.53 | Louisa     | 20 | male   | ⋯ |  90 |  NA |  NA | 31 | 39 | 1440 | 2 | 0 | 2 | no  |\n",
       "| 19 | 1045 | 194 |  81 | 36 | 5.4 |  5.28 | Louisa     | 36 | male   | ⋯ |  76 |  NA |  NA | 30 | 34 |  120 | 1 | 0 | 1 | no  |\n",
       "| 20 | 1250 | 196 | 206 | 41 | 4.8 | 11.24 | Buckingham | 62 | female | ⋯ |  90 |  NA |  NA | 46 | 51 |  540 | 0 | 0 | 2 | yes |\n",
       "| 21 | 1252 | 186 |  97 | 50 | 3.7 |  6.49 | Buckingham | 70 | male   | ⋯ |  88 | 148 |  84 | 42 | 41 | 1020 | 2 | 0 | 2 | no  |\n",
       "| 22 | 1253 | 234 |  65 | 76 | 3.1 |  4.67 | Buckingham | 47 | male   | ⋯ | 100 | 149 | 110 | 45 | 46 |  480 | 0 | 0 | 2 | no  |\n",
       "| 23 | 1254 | 203 | 299 | 43 | 4.7 | 12.74 | Buckingham | 38 | female | ⋯ |  83 |  NA |  NA | 48 | 55 |  240 | 1 | 1 | 2 | yes |\n",
       "| 24 | 1256 | 281 |  92 | 41 | 6.9 |  5.56 | Buckingham | 66 | female | ⋯ |  88 | 160 |  88 | 48 | 44 |  285 | 1 | 0 | 1 | no  |\n",
       "| 25 | 1271 | 228 |  66 | 45 | 5.1 |  4.61 | Buckingham | 24 | female | ⋯ |  70 | 110 |  70 | 33 | 38 |  210 | 2 | 0 | 1 | no  |\n",
       "| 26 | 1277 | 179 |  80 | 92 | 1.9 |  4.18 | Buckingham | 41 | female | ⋯ | 112 |  NA |  NA | 28 | 36 |  780 | 1 | 0 | 2 | no  |\n",
       "| 27 | 1280 | 232 |  87 | 30 | 7.7 |  5.10 | Buckingham | 37 | male   | ⋯ |  95 |  NA |  NA | 43 | 47 |  420 | 1 | 1 | 2 | no  |\n",
       "| 28 | 1281 |  NA |  74 | NA |  NA |  4.28 | Buckingham | 48 | male   | ⋯ |  85 |  NA |  NA | 27 | 33 |  510 | 0 | 1 | 1 | no  |\n",
       "| 29 | 1282 | 254 |  84 | 52 | 4.9 |  4.52 | Buckingham | 43 | female | ⋯ |  70 |  NA |  NA | 31 | 38 |  720 | 2 | 0 | 3 | no  |\n",
       "| 30 | 1285 | 215 |  72 | 42 | 5.1 |  4.37 | Louisa     | 40 | male   | ⋯ | 122 | 170 | 112 | 37 | 39 |  450 | 0 | 0 | 2 | no  |\n",
       "| ⋮ | ⋮ | ⋮ | ⋮ | ⋮ | ⋮ | ⋮ | ⋮ | ⋮ | ⋮ | ⋱ | ⋮ | ⋮ | ⋮ | ⋮ | ⋮ | ⋮ | ⋮ | ⋮ | ⋮ | ⋮ |\n",
       "| 374 | 40804 | 179 | 105 |  60 | 3.0 |  4.68 | Louisa | 20 | female | ⋯ | 100 | 138 |  82 | 34 | 46 |  270 | 2 | 0 | 2 | no  |\n",
       "| 375 | 40805 | 202 |  84 |  33 | 6.1 |  4.17 | Louisa | 44 | male   | ⋯ |  80 |  NA |  NA | 33 | 37 |  180 | 0 | 0 | 2 | no  |\n",
       "| 376 | 41000 | 194 |  87 |  65 | 3.0 |  4.14 | Louisa | 54 | male   | ⋯ |  96 | 160 |  94 | 30 | 37 |   15 | 1 | 0 | 1 | no  |\n",
       "| 377 | 41001 | 227 |  85 |  26 | 8.7 |  4.98 | Louisa | 58 | male   | ⋯ |  82 | 144 |  80 | 38 | 43 |  480 | 2 | 0 | 2 | no  |\n",
       "| 378 | 41003 | 337 |  85 |  62 | 5.4 |  4.66 | Louisa | 35 | male   | ⋯ |  84 |  NA |  NA | 36 | 44 |  240 | 0 | 0 | 1 | no  |\n",
       "| 379 | 41004 | 255 |  83 |  90 | 2.8 |  4.29 | Louisa | 52 | male   | ⋯ | 110 | 166 | 108 | 30 | 33 |  780 | 2 | 1 | 3 | no  |\n",
       "| 380 | 41021 | 162 |  90 |  46 | 3.5 |  5.56 | Louisa | 60 | female | ⋯ |  64 |  NA |  NA | 32 | 34 |  300 | 2 | 0 | 2 | no  |\n",
       "| 381 | 41023 | 322 |  87 |  92 | 3.5 |  4.45 | Louisa | 43 | female | ⋯ |  98 | 122 | 100 | 32 | 41 |   60 | 0 | 0 | 2 | no  |\n",
       "| 382 | 41029 | 289 | 267 |  38 | 7.6 | 11.41 | Louisa | 59 | male   | ⋯ |  79 |  NA |  NA | 36 | 38 |  900 | 0 | 0 | 3 | yes |\n",
       "| 383 | 41034 | 217 |  87 |  40 | 5.4 |  4.07 | Louisa | 33 | female | ⋯ |  90 | 138 |  84 | 42 | 46 |   40 | 1 | 0 | 2 | no  |\n",
       "| 384 | 41035 | 209 |  91 |  36 | 5.8 |  5.01 | Louisa | 37 | male   | ⋯ |  94 | 130 |  88 | 42 | 48 |  450 | 1 | 0 | 3 | no  |\n",
       "| 385 | 41036 | 214 |  77 |  48 | 4.5 |  4.48 | Louisa | 40 | male   | ⋯ |  84 |  NA |  NA | 40 | 44 | 1020 | 2 | 1 | 3 | no  |\n",
       "| 386 | 41037 | 302 |  81 |  57 | 5.3 |  4.65 | Louisa | 38 | female | ⋯ |  82 |  NA |  NA | 41 | 51 |  210 | 2 | 0 | 2 | no  |\n",
       "| 387 | 41039 | 179 |  85 |  52 | 3.4 |  4.05 | Louisa | 32 | female | ⋯ |  96 | 148 | 100 | 37 | 47 |   60 | 2 | 1 | 1 | no  |\n",
       "| 388 | 41041 | 279 | 270 |  40 | 7.0 |  8.11 | Louisa | 60 | female | ⋯ |  90 | 174 |  84 | 48 | 50 |  180 | 1 | 1 | 1 | yes |\n",
       "| 389 | 41055 | 144 |  81 |  28 | 5.1 |  4.13 | Louisa | 30 | male   | ⋯ |  78 |  NA |  NA | 31 | 38 |  180 | 2 | 1 | 1 | no  |\n",
       "| 390 | 41063 | 270 |  73 |  40 | 6.8 |  3.58 | Louisa | 42 | male   | ⋯ |  94 | 149 |  94 | 39 | 41 |   30 | 0 | 0 | 2 | no  |\n",
       "| 391 | 41065 | 196 | 120 |  67 | 2.9 |  9.37 | Louisa | 52 | female | ⋯ |  94 | 142 |  92 | 34 | 42 |  480 | 2 | 0 | 1 | yes |\n",
       "| 392 | 41075 | 221 | 126 |  48 | 4.6 |  5.53 | Louisa | 59 | female | ⋯ |  78 |  NA |  NA | 39 | 45 |   60 | 2 | 0 | 1 | no  |\n",
       "| 393 | 41078 | 210 |  81 |  81 | 2.6 |  4.96 | Louisa | 78 | male   | ⋯ |  70 |  NA |  NA | 38 | 39 |  540 | 1 | 1 | 2 | no  |\n",
       "| 394 | 41253 | 192 |  85 |  69 | 2.8 |  4.38 | Louisa | 51 | male   | ⋯ | 110 | 170 | 118 | NA | NA |   60 | 0 | 0 | 3 | no  |\n",
       "| 395 | 41254 | 169 | 104 |  58 | 2.9 |  4.82 | Louisa | 25 | female | ⋯ |  95 | 130 |  94 | 40 | 42 |   60 | 0 | 0 | 2 | no  |\n",
       "| 396 | 41500 | 179 |  85 |  50 | 3.6 |  4.99 | Louisa | 37 | male   | ⋯ |  94 | 172 | 100 | 33 | 39 |  480 | 0 | 0 | 2 | no  |\n",
       "| 397 | 41501 | 216 |  84 |  64 | 3.4 |    NA | Louisa | 54 | female | ⋯ |  90 | 126 |  80 | 38 | 42 |  330 | 2 | 0 | 1 | NA  |\n",
       "| 398 | 41503 | 301 |  90 | 118 | 2.6 |  4.28 | Louisa | 89 | female | ⋯ |  90 | 238 |  90 | 31 | 41 |  210 | 1 | 0 | 3 | no  |\n",
       "| 399 | 41506 | 296 | 369 |  46 | 6.4 | 16.11 | Louisa | 53 | male   | ⋯ |  94 | 130 |  94 | 35 | 39 |  210 | 2 | 0 | 1 | yes |\n",
       "| 400 | 41507 | 284 |  89 |  54 | 5.3 |  4.39 | Louisa | 51 | female | ⋯ | 100 | 146 | 102 | 32 | 43 |  180 | 2 | 0 | 3 | no  |\n",
       "| 401 | 41510 | 194 | 269 |  38 | 5.1 | 13.63 | Louisa | 29 | female | ⋯ |  70 |  NA |  NA | 33 | 40 |   20 | 0 | 1 | 2 | yes |\n",
       "| 402 | 41752 | 199 |  76 |  52 | 3.8 |  4.49 | Louisa | 41 | female | ⋯ |  78 |  NA |  NA | 41 | 48 |  255 | 2 | 0 | 2 | no  |\n",
       "| 403 | 41756 | 159 |  88 |  79 | 2.0 |    NA | Louisa | 68 | female | ⋯ |  72 |  NA |  NA | 49 | 58 |  900 | 0 | 0 | 1 | NA  |\n",
       "\n"
      ],
      "text/plain": [
       "    X   id    chol stab.glu hdl ratio glyhb location   age gender ⋯ bp.1d bp.2s\n",
       "1    1  1000  203   82      56  3.6    4.31 Buckingham 46  female ⋯  59    NA  \n",
       "2    2  1001  165   97      24  6.9    4.44 Buckingham 29  female ⋯  68    NA  \n",
       "3    3  1002  228   92      37  6.2    4.64 Buckingham 58  female ⋯  92   185  \n",
       "4    4  1003   78   93      12  6.5    4.63 Buckingham 67  male   ⋯  50    NA  \n",
       "5    5  1005  249   90      28  8.9    7.72 Buckingham 64  male   ⋯  80    NA  \n",
       "6    6  1008  248   94      69  3.6    4.81 Buckingham 34  male   ⋯  86    NA  \n",
       "7    7  1011  195   92      41  4.8    4.84 Buckingham 30  male   ⋯ 112   161  \n",
       "8    8  1015  227   75      44  5.2    3.94 Buckingham 37  male   ⋯  NA    NA  \n",
       "9    9  1016  177   87      49  3.6    4.84 Buckingham 45  male   ⋯  80   128  \n",
       "10  10  1022  263   89      40  6.6    5.78 Buckingham 55  female ⋯  72    NA  \n",
       "11  11  1024  242   82      54  4.5    4.77 Louisa     60  female ⋯  90   130  \n",
       "12  12  1029  215  128      34  6.3    4.97 Louisa     38  female ⋯  68    NA  \n",
       "13  13  1030  238   75      36  6.6    4.47 Louisa     27  female ⋯  80    NA  \n",
       "14  14  1031  183   79      46  4.0    4.59 Louisa     40  female ⋯  NA    NA  \n",
       "15  15  1035  191   76      30  6.4    4.67 Louisa     36  male   ⋯  66    NA  \n",
       "16  16  1036  213   83      47  4.5    3.41 Louisa     33  female ⋯  90   120  \n",
       "17  17  1037  255   78      38  6.7    4.33 Louisa     50  female ⋯ 100    NA  \n",
       "18  18  1041  230  112      64  3.6    4.53 Louisa     20  male   ⋯  90    NA  \n",
       "19  19  1045  194   81      36  5.4    5.28 Louisa     36  male   ⋯  76    NA  \n",
       "20  20  1250  196  206      41  4.8   11.24 Buckingham 62  female ⋯  90    NA  \n",
       "21  21  1252  186   97      50  3.7    6.49 Buckingham 70  male   ⋯  88   148  \n",
       "22  22  1253  234   65      76  3.1    4.67 Buckingham 47  male   ⋯ 100   149  \n",
       "23  23  1254  203  299      43  4.7   12.74 Buckingham 38  female ⋯  83    NA  \n",
       "24  24  1256  281   92      41  6.9    5.56 Buckingham 66  female ⋯  88   160  \n",
       "25  25  1271  228   66      45  5.1    4.61 Buckingham 24  female ⋯  70   110  \n",
       "26  26  1277  179   80      92  1.9    4.18 Buckingham 41  female ⋯ 112    NA  \n",
       "27  27  1280  232   87      30  7.7    5.10 Buckingham 37  male   ⋯  95    NA  \n",
       "28  28  1281   NA   74      NA   NA    4.28 Buckingham 48  male   ⋯  85    NA  \n",
       "29  29  1282  254   84      52  4.9    4.52 Buckingham 43  female ⋯  70    NA  \n",
       "30  30  1285  215   72      42  5.1    4.37 Louisa     40  male   ⋯ 122   170  \n",
       "⋮   ⋮   ⋮     ⋮    ⋮        ⋮   ⋮     ⋮     ⋮          ⋮   ⋮      ⋱ ⋮     ⋮    \n",
       "374 374 40804 179  105       60 3.0    4.68 Louisa     20  female ⋯ 100   138  \n",
       "375 375 40805 202   84       33 6.1    4.17 Louisa     44  male   ⋯  80    NA  \n",
       "376 376 41000 194   87       65 3.0    4.14 Louisa     54  male   ⋯  96   160  \n",
       "377 377 41001 227   85       26 8.7    4.98 Louisa     58  male   ⋯  82   144  \n",
       "378 378 41003 337   85       62 5.4    4.66 Louisa     35  male   ⋯  84    NA  \n",
       "379 379 41004 255   83       90 2.8    4.29 Louisa     52  male   ⋯ 110   166  \n",
       "380 380 41021 162   90       46 3.5    5.56 Louisa     60  female ⋯  64    NA  \n",
       "381 381 41023 322   87       92 3.5    4.45 Louisa     43  female ⋯  98   122  \n",
       "382 382 41029 289  267       38 7.6   11.41 Louisa     59  male   ⋯  79    NA  \n",
       "383 383 41034 217   87       40 5.4    4.07 Louisa     33  female ⋯  90   138  \n",
       "384 384 41035 209   91       36 5.8    5.01 Louisa     37  male   ⋯  94   130  \n",
       "385 385 41036 214   77       48 4.5    4.48 Louisa     40  male   ⋯  84    NA  \n",
       "386 386 41037 302   81       57 5.3    4.65 Louisa     38  female ⋯  82    NA  \n",
       "387 387 41039 179   85       52 3.4    4.05 Louisa     32  female ⋯  96   148  \n",
       "388 388 41041 279  270       40 7.0    8.11 Louisa     60  female ⋯  90   174  \n",
       "389 389 41055 144   81       28 5.1    4.13 Louisa     30  male   ⋯  78    NA  \n",
       "390 390 41063 270   73       40 6.8    3.58 Louisa     42  male   ⋯  94   149  \n",
       "391 391 41065 196  120       67 2.9    9.37 Louisa     52  female ⋯  94   142  \n",
       "392 392 41075 221  126       48 4.6    5.53 Louisa     59  female ⋯  78    NA  \n",
       "393 393 41078 210   81       81 2.6    4.96 Louisa     78  male   ⋯  70    NA  \n",
       "394 394 41253 192   85       69 2.8    4.38 Louisa     51  male   ⋯ 110   170  \n",
       "395 395 41254 169  104       58 2.9    4.82 Louisa     25  female ⋯  95   130  \n",
       "396 396 41500 179   85       50 3.6    4.99 Louisa     37  male   ⋯  94   172  \n",
       "397 397 41501 216   84       64 3.4      NA Louisa     54  female ⋯  90   126  \n",
       "398 398 41503 301   90      118 2.6    4.28 Louisa     89  female ⋯  90   238  \n",
       "399 399 41506 296  369       46 6.4   16.11 Louisa     53  male   ⋯  94   130  \n",
       "400 400 41507 284   89       54 5.3    4.39 Louisa     51  female ⋯ 100   146  \n",
       "401 401 41510 194  269       38 5.1   13.63 Louisa     29  female ⋯  70    NA  \n",
       "402 402 41752 199   76       52 3.8    4.49 Louisa     41  female ⋯  78    NA  \n",
       "403 403 41756 159   88       79 2.0      NA Louisa     68  female ⋯  72    NA  \n",
       "    bp.2d waist hip time.ppn insurance fh smoking dm \n",
       "1    NA   29    38   720     1         0  3       no \n",
       "2    NA   46    48   360     0         0  2       no \n",
       "3    92   49    57   180     2         0  2       no \n",
       "4    NA   33    38   480     1         0  3       no \n",
       "5    NA   44    41   300     0         0  3       yes\n",
       "6    NA   36    42   195     1         0  1       no \n",
       "7   112   46    49   720     2         1  2       no \n",
       "8    NA   34    39  1020     0         0  2       no \n",
       "9    86   34    40   300     2         1  1       no \n",
       "10   NA   45    50   240     2         0  2       no \n",
       "11   90   39    45   300     1         0  2       no \n",
       "12   NA   42    50    90     0         0  2       no \n",
       "13   NA   35    41   720     0         0  1       no \n",
       "14   NA   37    43    60     2         0  1       no \n",
       "15   NA   36    40   225     0         0  1       no \n",
       "16   96   37    41   240     0         1  2       no \n",
       "17   NA   37    43   180     1         0  1       no \n",
       "18   NA   31    39  1440     2         0  2       no \n",
       "19   NA   30    34   120     1         0  1       no \n",
       "20   NA   46    51   540     0         0  2       yes\n",
       "21   84   42    41  1020     2         0  2       no \n",
       "22  110   45    46   480     0         0  2       no \n",
       "23   NA   48    55   240     1         1  2       yes\n",
       "24   88   48    44   285     1         0  1       no \n",
       "25   70   33    38   210     2         0  1       no \n",
       "26   NA   28    36   780     1         0  2       no \n",
       "27   NA   43    47   420     1         1  2       no \n",
       "28   NA   27    33   510     0         1  1       no \n",
       "29   NA   31    38   720     2         0  3       no \n",
       "30  112   37    39   450     0         0  2       no \n",
       "⋮   ⋮     ⋮     ⋮   ⋮        ⋮         ⋮  ⋮       ⋮  \n",
       "374  82   34    46   270     2         0  2       no \n",
       "375  NA   33    37   180     0         0  2       no \n",
       "376  94   30    37    15     1         0  1       no \n",
       "377  80   38    43   480     2         0  2       no \n",
       "378  NA   36    44   240     0         0  1       no \n",
       "379 108   30    33   780     2         1  3       no \n",
       "380  NA   32    34   300     2         0  2       no \n",
       "381 100   32    41    60     0         0  2       no \n",
       "382  NA   36    38   900     0         0  3       yes\n",
       "383  84   42    46    40     1         0  2       no \n",
       "384  88   42    48   450     1         0  3       no \n",
       "385  NA   40    44  1020     2         1  3       no \n",
       "386  NA   41    51   210     2         0  2       no \n",
       "387 100   37    47    60     2         1  1       no \n",
       "388  84   48    50   180     1         1  1       yes\n",
       "389  NA   31    38   180     2         1  1       no \n",
       "390  94   39    41    30     0         0  2       no \n",
       "391  92   34    42   480     2         0  1       yes\n",
       "392  NA   39    45    60     2         0  1       no \n",
       "393  NA   38    39   540     1         1  2       no \n",
       "394 118   NA    NA    60     0         0  3       no \n",
       "395  94   40    42    60     0         0  2       no \n",
       "396 100   33    39   480     0         0  2       no \n",
       "397  80   38    42   330     2         0  1       NA \n",
       "398  90   31    41   210     1         0  3       no \n",
       "399  94   35    39   210     2         0  1       yes\n",
       "400 102   32    43   180     2         0  3       no \n",
       "401  NA   33    40    20     0         1  2       yes\n",
       "402  NA   41    48   255     2         0  2       no \n",
       "403  NA   49    58   900     0         0  1       NA "
      ]
     },
     "metadata": {},
     "output_type": "display_data"
    }
   ],
   "source": [
    "Diabetes"
   ]
  },
  {
   "cell_type": "code",
   "execution_count": 22,
   "metadata": {},
   "outputs": [
    {
     "data": {
      "text/html": [
       "<table>\n",
       "<caption>A data.frame: 6 × 24</caption>\n",
       "<thead>\n",
       "\t<tr><th scope=col>X</th><th scope=col>id</th><th scope=col>chol</th><th scope=col>stab.glu</th><th scope=col>hdl</th><th scope=col>ratio</th><th scope=col>glyhb</th><th scope=col>location</th><th scope=col>age</th><th scope=col>gender</th><th scope=col>⋯</th><th scope=col>bp.1d</th><th scope=col>bp.2s</th><th scope=col>bp.2d</th><th scope=col>waist</th><th scope=col>hip</th><th scope=col>time.ppn</th><th scope=col>insurance</th><th scope=col>fh</th><th scope=col>smoking</th><th scope=col>dm</th></tr>\n",
       "\t<tr><th scope=col>&lt;int&gt;</th><th scope=col>&lt;int&gt;</th><th scope=col>&lt;int&gt;</th><th scope=col>&lt;int&gt;</th><th scope=col>&lt;int&gt;</th><th scope=col>&lt;dbl&gt;</th><th scope=col>&lt;dbl&gt;</th><th scope=col>&lt;fct&gt;</th><th scope=col>&lt;int&gt;</th><th scope=col>&lt;fct&gt;</th><th scope=col>⋯</th><th scope=col>&lt;int&gt;</th><th scope=col>&lt;int&gt;</th><th scope=col>&lt;int&gt;</th><th scope=col>&lt;int&gt;</th><th scope=col>&lt;int&gt;</th><th scope=col>&lt;int&gt;</th><th scope=col>&lt;int&gt;</th><th scope=col>&lt;int&gt;</th><th scope=col>&lt;int&gt;</th><th scope=col>&lt;fct&gt;</th></tr>\n",
       "</thead>\n",
       "<tbody>\n",
       "\t<tr><td>1</td><td>1000</td><td>203</td><td>82</td><td>56</td><td>3.6</td><td>4.31</td><td>Buckingham</td><td>46</td><td>female</td><td>⋯</td><td>59</td><td> NA</td><td>NA</td><td>29</td><td>38</td><td>720</td><td>1</td><td>0</td><td>3</td><td>no </td></tr>\n",
       "\t<tr><td>2</td><td>1001</td><td>165</td><td>97</td><td>24</td><td>6.9</td><td>4.44</td><td>Buckingham</td><td>29</td><td>female</td><td>⋯</td><td>68</td><td> NA</td><td>NA</td><td>46</td><td>48</td><td>360</td><td>0</td><td>0</td><td>2</td><td>no </td></tr>\n",
       "\t<tr><td>3</td><td>1002</td><td>228</td><td>92</td><td>37</td><td>6.2</td><td>4.64</td><td>Buckingham</td><td>58</td><td>female</td><td>⋯</td><td>92</td><td>185</td><td>92</td><td>49</td><td>57</td><td>180</td><td>2</td><td>0</td><td>2</td><td>no </td></tr>\n",
       "\t<tr><td>4</td><td>1003</td><td> 78</td><td>93</td><td>12</td><td>6.5</td><td>4.63</td><td>Buckingham</td><td>67</td><td>male  </td><td>⋯</td><td>50</td><td> NA</td><td>NA</td><td>33</td><td>38</td><td>480</td><td>1</td><td>0</td><td>3</td><td>no </td></tr>\n",
       "\t<tr><td>5</td><td>1005</td><td>249</td><td>90</td><td>28</td><td>8.9</td><td>7.72</td><td>Buckingham</td><td>64</td><td>male  </td><td>⋯</td><td>80</td><td> NA</td><td>NA</td><td>44</td><td>41</td><td>300</td><td>0</td><td>0</td><td>3</td><td>yes</td></tr>\n",
       "\t<tr><td>6</td><td>1008</td><td>248</td><td>94</td><td>69</td><td>3.6</td><td>4.81</td><td>Buckingham</td><td>34</td><td>male  </td><td>⋯</td><td>86</td><td> NA</td><td>NA</td><td>36</td><td>42</td><td>195</td><td>1</td><td>0</td><td>1</td><td>no </td></tr>\n",
       "</tbody>\n",
       "</table>\n"
      ],
      "text/latex": [
       "A data.frame: 6 × 24\n",
       "\\begin{tabular}{r|llllllllllllllllllllllll}\n",
       " X & id & chol & stab.glu & hdl & ratio & glyhb & location & age & gender & height & weight & frame & bp.1s & bp.1d & bp.2s & bp.2d & waist & hip & time.ppn & insurance & fh & smoking & dm\\\\\n",
       " <int> & <int> & <int> & <int> & <int> & <dbl> & <dbl> & <fct> & <int> & <fct> & <int> & <int> & <fct> & <int> & <int> & <int> & <int> & <int> & <int> & <int> & <int> & <int> & <int> & <fct>\\\\\n",
       "\\hline\n",
       "\t 1 & 1000 & 203 & 82 & 56 & 3.6 & 4.31 & Buckingham & 46 & female & 62 & 121 & medium & 118 & 59 &  NA & NA & 29 & 38 & 720 & 1 & 0 & 3 & no \\\\\n",
       "\t 2 & 1001 & 165 & 97 & 24 & 6.9 & 4.44 & Buckingham & 29 & female & 64 & 218 & large  & 112 & 68 &  NA & NA & 46 & 48 & 360 & 0 & 0 & 2 & no \\\\\n",
       "\t 3 & 1002 & 228 & 92 & 37 & 6.2 & 4.64 & Buckingham & 58 & female & 61 & 256 & large  & 190 & 92 & 185 & 92 & 49 & 57 & 180 & 2 & 0 & 2 & no \\\\\n",
       "\t 4 & 1003 &  78 & 93 & 12 & 6.5 & 4.63 & Buckingham & 67 & male   & 67 & 119 & large  & 110 & 50 &  NA & NA & 33 & 38 & 480 & 1 & 0 & 3 & no \\\\\n",
       "\t 5 & 1005 & 249 & 90 & 28 & 8.9 & 7.72 & Buckingham & 64 & male   & 68 & 183 & medium & 138 & 80 &  NA & NA & 44 & 41 & 300 & 0 & 0 & 3 & yes\\\\\n",
       "\t 6 & 1008 & 248 & 94 & 69 & 3.6 & 4.81 & Buckingham & 34 & male   & 71 & 190 & large  & 132 & 86 &  NA & NA & 36 & 42 & 195 & 1 & 0 & 1 & no \\\\\n",
       "\\end{tabular}\n"
      ],
      "text/markdown": [
       "\n",
       "A data.frame: 6 × 24\n",
       "\n",
       "| X &lt;int&gt; | id &lt;int&gt; | chol &lt;int&gt; | stab.glu &lt;int&gt; | hdl &lt;int&gt; | ratio &lt;dbl&gt; | glyhb &lt;dbl&gt; | location &lt;fct&gt; | age &lt;int&gt; | gender &lt;fct&gt; | ⋯ ⋯ | bp.1d &lt;int&gt; | bp.2s &lt;int&gt; | bp.2d &lt;int&gt; | waist &lt;int&gt; | hip &lt;int&gt; | time.ppn &lt;int&gt; | insurance &lt;int&gt; | fh &lt;int&gt; | smoking &lt;int&gt; | dm &lt;fct&gt; |\n",
       "|---|---|---|---|---|---|---|---|---|---|---|---|---|---|---|---|---|---|---|---|---|\n",
       "| 1 | 1000 | 203 | 82 | 56 | 3.6 | 4.31 | Buckingham | 46 | female | ⋯ | 59 |  NA | NA | 29 | 38 | 720 | 1 | 0 | 3 | no  |\n",
       "| 2 | 1001 | 165 | 97 | 24 | 6.9 | 4.44 | Buckingham | 29 | female | ⋯ | 68 |  NA | NA | 46 | 48 | 360 | 0 | 0 | 2 | no  |\n",
       "| 3 | 1002 | 228 | 92 | 37 | 6.2 | 4.64 | Buckingham | 58 | female | ⋯ | 92 | 185 | 92 | 49 | 57 | 180 | 2 | 0 | 2 | no  |\n",
       "| 4 | 1003 |  78 | 93 | 12 | 6.5 | 4.63 | Buckingham | 67 | male   | ⋯ | 50 |  NA | NA | 33 | 38 | 480 | 1 | 0 | 3 | no  |\n",
       "| 5 | 1005 | 249 | 90 | 28 | 8.9 | 7.72 | Buckingham | 64 | male   | ⋯ | 80 |  NA | NA | 44 | 41 | 300 | 0 | 0 | 3 | yes |\n",
       "| 6 | 1008 | 248 | 94 | 69 | 3.6 | 4.81 | Buckingham | 34 | male   | ⋯ | 86 |  NA | NA | 36 | 42 | 195 | 1 | 0 | 1 | no  |\n",
       "\n"
      ],
      "text/plain": [
       "  X id   chol stab.glu hdl ratio glyhb location   age gender ⋯ bp.1d bp.2s\n",
       "1 1 1000 203  82       56  3.6   4.31  Buckingham 46  female ⋯ 59     NA  \n",
       "2 2 1001 165  97       24  6.9   4.44  Buckingham 29  female ⋯ 68     NA  \n",
       "3 3 1002 228  92       37  6.2   4.64  Buckingham 58  female ⋯ 92    185  \n",
       "4 4 1003  78  93       12  6.5   4.63  Buckingham 67  male   ⋯ 50     NA  \n",
       "5 5 1005 249  90       28  8.9   7.72  Buckingham 64  male   ⋯ 80     NA  \n",
       "6 6 1008 248  94       69  3.6   4.81  Buckingham 34  male   ⋯ 86     NA  \n",
       "  bp.2d waist hip time.ppn insurance fh smoking dm \n",
       "1 NA    29    38  720      1         0  3       no \n",
       "2 NA    46    48  360      0         0  2       no \n",
       "3 92    49    57  180      2         0  2       no \n",
       "4 NA    33    38  480      1         0  3       no \n",
       "5 NA    44    41  300      0         0  3       yes\n",
       "6 NA    36    42  195      1         0  1       no "
      ]
     },
     "metadata": {},
     "output_type": "display_data"
    }
   ],
   "source": [
    "head(Diabetes)"
   ]
  },
  {
   "cell_type": "code",
   "execution_count": 23,
   "metadata": {
    "scrolled": true
   },
   "outputs": [
    {
     "data": {
      "text/html": [
       "<ol class=list-inline>\n",
       "\t<li>403</li>\n",
       "\t<li>24</li>\n",
       "</ol>\n"
      ],
      "text/latex": [
       "\\begin{enumerate*}\n",
       "\\item 403\n",
       "\\item 24\n",
       "\\end{enumerate*}\n"
      ],
      "text/markdown": [
       "1. 403\n",
       "2. 24\n",
       "\n",
       "\n"
      ],
      "text/plain": [
       "[1] 403  24"
      ]
     },
     "metadata": {},
     "output_type": "display_data"
    }
   ],
   "source": [
    "dim(Diabetes)"
   ]
  },
  {
   "cell_type": "code",
   "execution_count": 24,
   "metadata": {},
   "outputs": [
    {
     "data": {
      "text/html": [
       "<ol class=list-inline>\n",
       "\t<li>'X'</li>\n",
       "\t<li>'id'</li>\n",
       "\t<li>'chol'</li>\n",
       "\t<li>'stab.glu'</li>\n",
       "\t<li>'hdl'</li>\n",
       "\t<li>'ratio'</li>\n",
       "\t<li>'glyhb'</li>\n",
       "\t<li>'location'</li>\n",
       "\t<li>'age'</li>\n",
       "\t<li>'gender'</li>\n",
       "\t<li>'height'</li>\n",
       "\t<li>'weight'</li>\n",
       "\t<li>'frame'</li>\n",
       "\t<li>'bp.1s'</li>\n",
       "\t<li>'bp.1d'</li>\n",
       "\t<li>'bp.2s'</li>\n",
       "\t<li>'bp.2d'</li>\n",
       "\t<li>'waist'</li>\n",
       "\t<li>'hip'</li>\n",
       "\t<li>'time.ppn'</li>\n",
       "\t<li>'insurance'</li>\n",
       "\t<li>'fh'</li>\n",
       "\t<li>'smoking'</li>\n",
       "\t<li>'dm'</li>\n",
       "</ol>\n"
      ],
      "text/latex": [
       "\\begin{enumerate*}\n",
       "\\item 'X'\n",
       "\\item 'id'\n",
       "\\item 'chol'\n",
       "\\item 'stab.glu'\n",
       "\\item 'hdl'\n",
       "\\item 'ratio'\n",
       "\\item 'glyhb'\n",
       "\\item 'location'\n",
       "\\item 'age'\n",
       "\\item 'gender'\n",
       "\\item 'height'\n",
       "\\item 'weight'\n",
       "\\item 'frame'\n",
       "\\item 'bp.1s'\n",
       "\\item 'bp.1d'\n",
       "\\item 'bp.2s'\n",
       "\\item 'bp.2d'\n",
       "\\item 'waist'\n",
       "\\item 'hip'\n",
       "\\item 'time.ppn'\n",
       "\\item 'insurance'\n",
       "\\item 'fh'\n",
       "\\item 'smoking'\n",
       "\\item 'dm'\n",
       "\\end{enumerate*}\n"
      ],
      "text/markdown": [
       "1. 'X'\n",
       "2. 'id'\n",
       "3. 'chol'\n",
       "4. 'stab.glu'\n",
       "5. 'hdl'\n",
       "6. 'ratio'\n",
       "7. 'glyhb'\n",
       "8. 'location'\n",
       "9. 'age'\n",
       "10. 'gender'\n",
       "11. 'height'\n",
       "12. 'weight'\n",
       "13. 'frame'\n",
       "14. 'bp.1s'\n",
       "15. 'bp.1d'\n",
       "16. 'bp.2s'\n",
       "17. 'bp.2d'\n",
       "18. 'waist'\n",
       "19. 'hip'\n",
       "20. 'time.ppn'\n",
       "21. 'insurance'\n",
       "22. 'fh'\n",
       "23. 'smoking'\n",
       "24. 'dm'\n",
       "\n",
       "\n"
      ],
      "text/plain": [
       " [1] \"X\"         \"id\"        \"chol\"      \"stab.glu\"  \"hdl\"       \"ratio\"    \n",
       " [7] \"glyhb\"     \"location\"  \"age\"       \"gender\"    \"height\"    \"weight\"   \n",
       "[13] \"frame\"     \"bp.1s\"     \"bp.1d\"     \"bp.2s\"     \"bp.2d\"     \"waist\"    \n",
       "[19] \"hip\"       \"time.ppn\"  \"insurance\" \"fh\"        \"smoking\"   \"dm\"       "
      ]
     },
     "metadata": {},
     "output_type": "display_data"
    }
   ],
   "source": [
    "colnames(Diabetes)"
   ]
  },
  {
   "cell_type": "code",
   "execution_count": 33,
   "metadata": {},
   "outputs": [
    {
     "data": {
      "text/html": [
       "<dl class=dl-horizontal>\n",
       "\t<dt>female</dt>\n",
       "\t\t<dd>234</dd>\n",
       "\t<dt>male</dt>\n",
       "\t\t<dd>169</dd>\n",
       "</dl>\n"
      ],
      "text/latex": [
       "\\begin{description*}\n",
       "\\item[female] 234\n",
       "\\item[male] 169\n",
       "\\end{description*}\n"
      ],
      "text/markdown": [
       "female\n",
       ":   234male\n",
       ":   169\n",
       "\n"
      ],
      "text/plain": [
       "female   male \n",
       "   234    169 "
      ]
     },
     "metadata": {},
     "output_type": "display_data"
    }
   ],
   "source": [
    "summary(gender)"
   ]
  },
  {
   "cell_type": "code",
   "execution_count": 34,
   "metadata": {},
   "outputs": [
    {
     "ename": "ERROR",
     "evalue": "Error in parse(text = x, srcfile = src): <text>:1:18: unexpected input\n1: chol <- Diabetes[<e2>\n                     ^\n",
     "output_type": "error",
     "traceback": [
      "Error in parse(text = x, srcfile = src): <text>:1:18: unexpected input\n1: chol <- Diabetes[<e2>\n                     ^\nTraceback:\n"
     ]
    }
   ],
   "source": [
    "chol <- Diabetes[“chol”]"
   ]
  },
  {
   "cell_type": "code",
   "execution_count": 29,
   "metadata": {},
   "outputs": [
    {
     "ename": "ERROR",
     "evalue": "Error in parse(text = x, srcfile = src): <text>:1:31: unexpected input\n1: gender <- as.factor(Diabetes[,<e2>\n                                  ^\n",
     "output_type": "error",
     "traceback": [
      "Error in parse(text = x, srcfile = src): <text>:1:31: unexpected input\n1: gender <- as.factor(Diabetes[,<e2>\n                                  ^\nTraceback:\n"
     ]
    }
   ],
   "source": [
    "gender <- as.factor(Diabetes[,”gender”])"
   ]
  },
  {
   "cell_type": "code",
   "execution_count": 30,
   "metadata": {},
   "outputs": [],
   "source": [
    "gender<-Diabetes$gender"
   ]
  },
  {
   "cell_type": "code",
   "execution_count": 35,
   "metadata": {},
   "outputs": [
    {
     "data": {
      "text/html": [
       "<dl class=dl-horizontal>\n",
       "\t<dt>female</dt>\n",
       "\t\t<dd>234</dd>\n",
       "\t<dt>male</dt>\n",
       "\t\t<dd>169</dd>\n",
       "</dl>\n"
      ],
      "text/latex": [
       "\\begin{description*}\n",
       "\\item[female] 234\n",
       "\\item[male] 169\n",
       "\\end{description*}\n"
      ],
      "text/markdown": [
       "female\n",
       ":   234male\n",
       ":   169\n",
       "\n"
      ],
      "text/plain": [
       "female   male \n",
       "   234    169 "
      ]
     },
     "metadata": {},
     "output_type": "display_data"
    }
   ],
   "source": [
    "summary(gender)"
   ]
  },
  {
   "cell_type": "code",
   "execution_count": 36,
   "metadata": {},
   "outputs": [
    {
     "data": {
      "text/html": [
       "'factor'"
      ],
      "text/latex": [
       "'factor'"
      ],
      "text/markdown": [
       "'factor'"
      ],
      "text/plain": [
       "[1] \"factor\""
      ]
     },
     "metadata": {},
     "output_type": "display_data"
    }
   ],
   "source": [
    "class(gender)"
   ]
  },
  {
   "cell_type": "code",
   "execution_count": 37,
   "metadata": {},
   "outputs": [],
   "source": [
    "chol<-Diabetes$chol"
   ]
  },
  {
   "cell_type": "code",
   "execution_count": 38,
   "metadata": {},
   "outputs": [
    {
     "data": {
      "text/plain": [
       "   Min. 1st Qu.  Median    Mean 3rd Qu.    Max.    NA's \n",
       "   78.0   179.0   204.0   207.8   230.0   443.0       1 "
      ]
     },
     "metadata": {},
     "output_type": "display_data"
    }
   ],
   "source": [
    "summary(chol)"
   ]
  },
  {
   "cell_type": "code",
   "execution_count": 40,
   "metadata": {},
   "outputs": [
    {
     "data": {
      "text/html": [
       "<dl class=dl-horizontal>\n",
       "\t<dt>no</dt>\n",
       "\t\t<dd>330</dd>\n",
       "\t<dt>yes</dt>\n",
       "\t\t<dd>60</dd>\n",
       "\t<dt>NA's</dt>\n",
       "\t\t<dd>13</dd>\n",
       "</dl>\n"
      ],
      "text/latex": [
       "\\begin{description*}\n",
       "\\item[no] 330\n",
       "\\item[yes] 60\n",
       "\\item[NA's] 13\n",
       "\\end{description*}\n"
      ],
      "text/markdown": [
       "no\n",
       ":   330yes\n",
       ":   60NA's\n",
       ":   13\n",
       "\n"
      ],
      "text/plain": [
       "  no  yes NA's \n",
       " 330   60   13 "
      ]
     },
     "metadata": {},
     "output_type": "display_data"
    }
   ],
   "source": [
    "summary(Diabetes$dm)"
   ]
  },
  {
   "cell_type": "code",
   "execution_count": 41,
   "metadata": {},
   "outputs": [],
   "source": [
    "dm<-Diabetes$dm"
   ]
  },
  {
   "cell_type": "code",
   "execution_count": 43,
   "metadata": {},
   "outputs": [
    {
     "data": {
      "text/plain": [
       "gender\n",
       "female   male    Sum \n",
       "   234    169    403 "
      ]
     },
     "metadata": {},
     "output_type": "display_data"
    }
   ],
   "source": [
    "t <- table(gender)\n",
    "addmargins(t)"
   ]
  },
  {
   "cell_type": "code",
   "execution_count": 45,
   "metadata": {
    "scrolled": true
   },
   "outputs": [
    {
     "data": {
      "text/plain": [
       "gender\n",
       "female   male \n",
       "  58.1   41.9 "
      ]
     },
     "metadata": {},
     "output_type": "display_data"
    }
   ],
   "source": [
    "round(100*prop.table(t),digits=1) #for percentages"
   ]
  },
  {
   "cell_type": "markdown",
   "metadata": {},
   "source": [
    "To see the gender in terms of % rather than number of patients in each group"
   ]
  },
  {
   "cell_type": "code",
   "execution_count": 46,
   "metadata": {},
   "outputs": [],
   "source": [
    " dm2 <- factor(dm, exclude=NULL)"
   ]
  },
  {
   "cell_type": "code",
   "execution_count": 47,
   "metadata": {},
   "outputs": [],
   "source": [
    "gender<-factor(gender, exclude=NULL) #add exclude=NULL to ensure missing data is included in our tables"
   ]
  },
  {
   "cell_type": "code",
   "execution_count": 49,
   "metadata": {},
   "outputs": [
    {
     "data": {
      "text/plain": [
       "gender\n",
       "female   male \n",
       "   234    169 "
      ]
     },
     "metadata": {},
     "output_type": "display_data"
    }
   ],
   "source": [
    "table(gender)"
   ]
  },
  {
   "cell_type": "code",
   "execution_count": 50,
   "metadata": {},
   "outputs": [],
   "source": [
    "height<-Diabetes$height"
   ]
  },
  {
   "cell_type": "code",
   "execution_count": 51,
   "metadata": {},
   "outputs": [],
   "source": [
    "weight<-Diabetes$weight"
   ]
  },
  {
   "cell_type": "markdown",
   "metadata": {},
   "source": [
    "##### How to calculate body mass index (BMI) from height and weight\n",
    "\n",
    "As this is a US data set, height is in inches and weight is in pounds. Neither height nor weight are particularly useful by themselves, however, so it’s common to combine them into the body mass index (BMI), which is weight divided by the square of height; both measures need to be in SI units, i.e. kilograms and metres, so we need to convert:"
   ]
  },
  {
   "cell_type": "code",
   "execution_count": 52,
   "metadata": {},
   "outputs": [],
   "source": [
    "height.si <- height*0.0254\n",
    "weight.si <- weight*0.453592\n",
    "bmi <- weight.si/height.si^2"
   ]
  },
  {
   "cell_type": "code",
   "execution_count": 54,
   "metadata": {
    "scrolled": true
   },
   "outputs": [
    {
     "data": {
      "text/plain": [
       "   Min. 1st Qu.  Median    Mean 3rd Qu.    Max.    NA's \n",
       "  15.20   24.13   27.80   28.79   32.24   55.79       6 "
      ]
     },
     "metadata": {},
     "output_type": "display_data"
    }
   ],
   "source": [
    "summary(bmi)"
   ]
  },
  {
   "cell_type": "markdown",
   "metadata": {},
   "source": [
    "#### How to make a categorical variable from a continuous one\n",
    "\n",
    "For display purposes and also because thresholds are used in clinical decision-making, it’s useful to categorise continuous variables even though this loses information. For instance, it’s very common to categorise BMI. One reason is so that public health agencies can track the numbers of people and proportion of the population who are obese, for example. Tracking the mean or median BMI for the population won’t tell you this. There are several ways to categorise BMI in R. Here’s one way. Let’s say we want groups for underweight [<18.5], normal [18.5-25], overweight [>25] and obese [>30]; a morbidly obese category also exists but let’s ignore that here."
   ]
  },
  {
   "cell_type": "code",
   "execution_count": 55,
   "metadata": {},
   "outputs": [],
   "source": [
    "bmi_categorised <- ifelse(bmi < 18.5, \"underweight\", \n",
    "                          ifelse(bmi >= 18.5 & bmi <= 25, \"normal\", \n",
    "                                 ifelse(bmi > 25 & bmi <= 30, \"overweight\", \n",
    "                                        ifelse(bmi > 30, \"obese\", NA)))) "
   ]
  },
  {
   "cell_type": "code",
   "execution_count": 56,
   "metadata": {},
   "outputs": [
    {
     "data": {
      "text/plain": [
       "   Min. 1st Qu.  Median    Mean 3rd Qu.    Max.    NA's \n",
       "  15.20   24.13   27.80   28.79   32.24   55.79       6 "
      ]
     },
     "metadata": {},
     "output_type": "display_data"
    }
   ],
   "source": [
    "summary(bmi)"
   ]
  },
  {
   "cell_type": "code",
   "execution_count": 57,
   "metadata": {
    "scrolled": true
   },
   "outputs": [
    {
     "data": {
      "text/plain": [
       "bmi_categorised\n",
       "     normal       obese  overweight underweight        <NA> \n",
       "        113         152         123           9           6 "
      ]
     },
     "metadata": {},
     "output_type": "display_data"
    }
   ],
   "source": [
    "table(bmi_categorised, exclude = NULL)"
   ]
  },
  {
   "cell_type": "code",
   "execution_count": 70,
   "metadata": {},
   "outputs": [],
   "source": [
    "#### Cross Tabulation"
   ]
  },
  {
   "cell_type": "code",
   "execution_count": 58,
   "metadata": {},
   "outputs": [],
   "source": [
    "dm_by_bmi_category <- table(bmi_categorised, dm2, exclude = NULL) #frequencies of diabetes by BMI category "
   ]
  },
  {
   "cell_type": "code",
   "execution_count": 59,
   "metadata": {},
   "outputs": [
    {
     "data": {
      "text/plain": [
       "               dm2\n",
       "bmi_categorised  no yes <NA>\n",
       "    normal      100   9    4\n",
       "    obese       118  29    5\n",
       "    overweight   99  20    4\n",
       "    underweight   9   0    0\n",
       "    <NA>          4   2    0"
      ]
     },
     "metadata": {},
     "output_type": "display_data"
    }
   ],
   "source": [
    "dm_by_bmi_category #by number of patients"
   ]
  },
  {
   "cell_type": "code",
   "execution_count": 61,
   "metadata": {},
   "outputs": [
    {
     "data": {
      "text/plain": [
       "               dm2\n",
       "bmi_categorised    no   yes  <NA>\n",
       "    normal       88.5   8.0   3.5\n",
       "    obese        77.6  19.1   3.3\n",
       "    overweight   80.5  16.3   3.3\n",
       "    underweight 100.0   0.0   0.0\n",
       "    <NA>         66.7  33.3   0.0"
      ]
     },
     "metadata": {},
     "output_type": "display_data"
    }
   ],
   "source": [
    "round(100 * prop.table(dm_by_bmi_category, margin = 1), digits = 1) #to see data in percentages\n"
   ]
  },
  {
   "cell_type": "markdown",
   "metadata": {},
   "source": [
    "It's always useful to describe the age-sex distribution of your set of patients. The first task is to make age groups from age, allowing for any missing values. To make it manageable, go for just four age groups: under 45, 45-64, 65-74 and 75 or over. Then tabulate age group by itself, followed by a cross-tabulation with gender. Finally, add the overall percentages to this cross-tab."
   ]
  },
  {
   "cell_type": "code",
   "execution_count": 62,
   "metadata": {},
   "outputs": [],
   "source": [
    "age<-Diabetes$age"
   ]
  },
  {
   "cell_type": "code",
   "execution_count": 97,
   "metadata": {},
   "outputs": [
    {
     "data": {
      "text/plain": [
       "   Min. 1st Qu.  Median    Mean 3rd Qu.    Max. \n",
       "  19.00   34.00   45.00   46.85   60.00   92.00 "
      ]
     },
     "metadata": {},
     "output_type": "display_data"
    }
   ],
   "source": [
    "summary(age)"
   ]
  },
  {
   "cell_type": "code",
   "execution_count": 109,
   "metadata": {},
   "outputs": [],
   "source": [
    "age_categorised <- ifelse(age < 45, \"under 45\", \n",
    "                          ifelse(age >= 45 & age < 65, \"45-64\", \n",
    "                                 ifelse(age >= 65 & age < 75, \"65-74\", \n",
    "                                        ifelse(age >= 75, \"75 and over\", NA)))) "
   ]
  },
  {
   "cell_type": "code",
   "execution_count": 110,
   "metadata": {},
   "outputs": [
    {
     "data": {
      "text/plain": [
       "age_categorised\n",
       "      45-64       65-74 75 and over    under 45 \n",
       "        139          41          23         200 "
      ]
     },
     "metadata": {},
     "output_type": "display_data"
    }
   ],
   "source": [
    "table(age_categorised, exclude = NULL)"
   ]
  },
  {
   "cell_type": "code",
   "execution_count": 111,
   "metadata": {},
   "outputs": [],
   "source": [
    "dm_by_age_category <- table(age_categorised, dm2, exclude = NULL)"
   ]
  },
  {
   "cell_type": "code",
   "execution_count": 112,
   "metadata": {},
   "outputs": [
    {
     "data": {
      "text/plain": [
       "               dm2\n",
       "age_categorised  no yes <NA>\n",
       "    45-64        98  35    6\n",
       "    65-74        28  11    2\n",
       "    75 and over  17   6    0\n",
       "    under 45    187   8    5"
      ]
     },
     "metadata": {},
     "output_type": "display_data"
    }
   ],
   "source": [
    "dm_by_age_category "
   ]
  },
  {
   "cell_type": "code",
   "execution_count": 113,
   "metadata": {},
   "outputs": [
    {
     "data": {
      "text/plain": [
       "               dm2\n",
       "age_categorised   no  yes <NA>\n",
       "    45-64       70.5 25.2  4.3\n",
       "    65-74       68.3 26.8  4.9\n",
       "    75 and over 73.9 26.1  0.0\n",
       "    under 45    93.5  4.0  2.5"
      ]
     },
     "metadata": {},
     "output_type": "display_data"
    }
   ],
   "source": [
    "round(100 * prop.table(dm_by_age_category, margin = 1), digits = 1)"
   ]
  },
  {
   "cell_type": "code",
   "execution_count": 114,
   "metadata": {},
   "outputs": [],
   "source": [
    "gender_by_age_category <- table(age_categorised, gender, exclude = NULL)"
   ]
  },
  {
   "cell_type": "code",
   "execution_count": 115,
   "metadata": {},
   "outputs": [
    {
     "data": {
      "text/plain": [
       "               gender\n",
       "age_categorised female male\n",
       "    45-64           75   64\n",
       "    65-74           21   20\n",
       "    75 and over     12   11\n",
       "    under 45       126   74"
      ]
     },
     "metadata": {},
     "output_type": "display_data"
    }
   ],
   "source": [
    "gender_by_age_category"
   ]
  },
  {
   "cell_type": "markdown",
   "metadata": {},
   "source": [
    "To check new grouping:\n"
   ]
  },
  {
   "cell_type": "code",
   "execution_count": 120,
   "metadata": {
    "scrolled": true
   },
   "outputs": [
    {
     "data": {
      "text/html": [
       "<table>\n",
       "<caption>A matrix: 6 × 2 of type chr</caption>\n",
       "<thead>\n",
       "\t<tr><th scope=col>age_categorised</th><th scope=col>age</th></tr>\n",
       "</thead>\n",
       "<tbody>\n",
       "\t<tr><td>45-64   </td><td>46</td></tr>\n",
       "\t<tr><td>under 45</td><td>29</td></tr>\n",
       "\t<tr><td>45-64   </td><td>58</td></tr>\n",
       "\t<tr><td>65-74   </td><td>67</td></tr>\n",
       "\t<tr><td>45-64   </td><td>64</td></tr>\n",
       "\t<tr><td>under 45</td><td>34</td></tr>\n",
       "</tbody>\n",
       "</table>\n"
      ],
      "text/latex": [
       "A matrix: 6 × 2 of type chr\n",
       "\\begin{tabular}{ll}\n",
       " age\\_categorised & age\\\\\n",
       "\\hline\n",
       "\t 45-64    & 46\\\\\n",
       "\t under 45 & 29\\\\\n",
       "\t 45-64    & 58\\\\\n",
       "\t 65-74    & 67\\\\\n",
       "\t 45-64    & 64\\\\\n",
       "\t under 45 & 34\\\\\n",
       "\\end{tabular}\n"
      ],
      "text/markdown": [
       "\n",
       "A matrix: 6 × 2 of type chr\n",
       "\n",
       "| age_categorised | age |\n",
       "|---|---|\n",
       "| 45-64    | 46 |\n",
       "| under 45 | 29 |\n",
       "| 45-64    | 58 |\n",
       "| 65-74    | 67 |\n",
       "| 45-64    | 64 |\n",
       "| under 45 | 34 |\n",
       "\n"
      ],
      "text/plain": [
       "     age_categorised age\n",
       "[1,] 45-64           46 \n",
       "[2,] under 45        29 \n",
       "[3,] 45-64           58 \n",
       "[4,] 65-74           67 \n",
       "[5,] 45-64           64 \n",
       "[6,] under 45        34 "
      ]
     },
     "metadata": {},
     "output_type": "display_data"
    }
   ],
   "source": [
    "head(cbind(age_categorised, age)) \n"
   ]
  },
  {
   "cell_type": "code",
   "execution_count": 121,
   "metadata": {},
   "outputs": [
    {
     "data": {
      "text/plain": [
       "               gender\n",
       "age_categorised female male\n",
       "    45-64         54.0 46.0\n",
       "    65-74         51.2 48.8\n",
       "    75 and over   52.2 47.8\n",
       "    under 45      63.0 37.0"
      ]
     },
     "metadata": {},
     "output_type": "display_data"
    }
   ],
   "source": [
    "round(100 * prop.table(gender_by_age_category, margin = 1), digits = 1)"
   ]
  },
  {
   "cell_type": "code",
   "execution_count": 122,
   "metadata": {},
   "outputs": [
    {
     "data": {
      "text/plain": [
       "               gender\n",
       "age_categorised female male\n",
       "    45-64         18.6 15.9\n",
       "    65-74          5.2  5.0\n",
       "    75 and over    3.0  2.7\n",
       "    under 45      31.3 18.4"
      ]
     },
     "metadata": {},
     "output_type": "display_data"
    }
   ],
   "source": [
    "# display the cross tabulation as proportion of whole sample, converting to percentage and rounding to 1 decimal place \n",
    "round(100 * prop.table(gender_by_age_category), digits = 1) "
   ]
  },
  {
   "cell_type": "code",
   "execution_count": 124,
   "metadata": {},
   "outputs": [
    {
     "data": {
      "text/plain": [
       "dm2\n",
       "  no  yes <NA> \n",
       " 330   60   13 "
      ]
     },
     "metadata": {},
     "output_type": "display_data"
    }
   ],
   "source": [
    "table(dm2, exclude=NULL)"
   ]
  },
  {
   "cell_type": "markdown",
   "metadata": {},
   "source": [
    "### Simple logistic regression"
   ]
  },
  {
   "cell_type": "markdown",
   "metadata": {},
   "source": [
    "\n",
    "\n",
    "need to tell r\n",
    "- what outcome variable is\n",
    "\n",
    "\n",
    "- what your predictors are (can be categorical or contunious- if categorical it does not need to be equal, if continuous it does not need to be normally distruted. BUT if its continuous you are assuming relationship between variable and outcome are linear, must plot and test this before you fit your model and if you need to make any adjustments)\n",
    "\n",
    "\n",
    "- what distrubtion (binaomial)you want to assume for the outcome variable \n",
    "\n",
    "\n",
    "- what link function you want (how you want to transform outcome variable to make maths work) LOGIT - take prob outcome and turn into logODDS"
   ]
  },
  {
   "cell_type": "markdown",
   "metadata": {},
   "source": [
    "### Simple logistic regression: how to run a model with only one predictor"
   ]
  },
  {
   "cell_type": "markdown",
   "metadata": {},
   "source": [
    "The simplest model we can fit is one with no predictors whatsoever in it. This is called the empty or null model and is rarely useful. It has the assumption that everyone has the same odds of having the outcome (diabetes in our example). The R command to do this would be:"
   ]
  },
  {
   "cell_type": "code",
   "execution_count": 127,
   "metadata": {
    "scrolled": true
   },
   "outputs": [
    {
     "data": {
      "text/plain": [
       "\n",
       "Call:  glm(formula = dm ~ 1, family = binomial(link = logit))\n",
       "\n",
       "Coefficients:\n",
       "(Intercept)  \n",
       "     -1.705  \n",
       "\n",
       "Degrees of Freedom: 389 Total (i.e. Null);  389 Residual\n",
       "  (13 observations deleted due to missingness)\n",
       "Null Deviance:\t    334.9 \n",
       "Residual Deviance: 334.9 \tAIC: 336.9"
      ]
     },
     "metadata": {},
     "output_type": "display_data"
    }
   ],
   "source": [
    "glm(dm ~ 1, family=binomial (link=logit))"
   ]
  },
  {
   "cell_type": "markdown",
   "metadata": {},
   "source": [
    "The “1” is just R’s way of saying that there’s only an intercept term in the model. To get the output, though, you need the “summary” command as well. To do this, you need to make an R object out of the model. I’ve called this object “m”. We can then summarise it:"
   ]
  },
  {
   "cell_type": "code",
   "execution_count": 128,
   "metadata": {},
   "outputs": [
    {
     "data": {
      "text/plain": [
       "\n",
       "Call:\n",
       "glm(formula = dm ~ 1, family = binomial(link = logit))\n",
       "\n",
       "Deviance Residuals: \n",
       "   Min      1Q  Median      3Q     Max  \n",
       "-0.578  -0.578  -0.578  -0.578   1.935  \n",
       "\n",
       "Coefficients:\n",
       "            Estimate Std. Error z value Pr(>|z|)    \n",
       "(Intercept)  -1.7047     0.1403  -12.15   <2e-16 ***\n",
       "---\n",
       "Signif. codes:  0 ‘***’ 0.001 ‘**’ 0.01 ‘*’ 0.05 ‘.’ 0.1 ‘ ’ 1\n",
       "\n",
       "(Dispersion parameter for binomial family taken to be 1)\n",
       "\n",
       "    Null deviance: 334.87  on 389  degrees of freedom\n",
       "Residual deviance: 334.87  on 389  degrees of freedom\n",
       "  (13 observations deleted due to missingness)\n",
       "AIC: 336.87\n",
       "\n",
       "Number of Fisher Scoring iterations: 3\n"
      ]
     },
     "metadata": {},
     "output_type": "display_data"
    }
   ],
   "source": [
    "m <- glm(dm ~ 1, family=binomial (link=logit))\n",
    "summary(m)"
   ]
  },
  {
   "cell_type": "code",
   "execution_count": 129,
   "metadata": {},
   "outputs": [
    {
     "data": {
      "text/plain": [
       "\n",
       "  0   1 \n",
       "330  60 "
      ]
     },
     "metadata": {},
     "output_type": "display_data"
    }
   ],
   "source": [
    "table(m$y)"
   ]
  },
  {
   "cell_type": "markdown",
   "metadata": {},
   "source": [
    "60 Yes and 330 No for diabetics"
   ]
  },
  {
   "cell_type": "markdown",
   "metadata": {},
   "source": [
    "The next simplest model is one with one predictor. Let’s first look at gender, which in our data set is binary: male or female.\n",
    "\n",
    "We’ve already told R that gender is a factor (in its language), that is to say, a categorical variable (in our language). That was the point of the “as.factor” commands earlier. To include it in the model, type:"
   ]
  },
  {
   "cell_type": "code",
   "execution_count": 131,
   "metadata": {},
   "outputs": [
    {
     "data": {
      "text/plain": [
       "\n",
       "Call:\n",
       "glm(formula = dm ~ gender, family = binomial(link = logit))\n",
       "\n",
       "Deviance Residuals: \n",
       "    Min       1Q   Median       3Q      Max  \n",
       "-0.5915  -0.5915  -0.5683  -0.5683   1.9509  \n",
       "\n",
       "Coefficients:\n",
       "            Estimate Std. Error z value Pr(>|z|)    \n",
       "(Intercept) -1.74150    0.18592  -9.367   <2e-16 ***\n",
       "gendermale   0.08694    0.28352   0.307    0.759    \n",
       "---\n",
       "Signif. codes:  0 ‘***’ 0.001 ‘**’ 0.01 ‘*’ 0.05 ‘.’ 0.1 ‘ ’ 1\n",
       "\n",
       "(Dispersion parameter for binomial family taken to be 1)\n",
       "\n",
       "    Null deviance: 334.87  on 389  degrees of freedom\n",
       "Residual deviance: 334.78  on 388  degrees of freedom\n",
       "  (13 observations deleted due to missingness)\n",
       "AIC: 338.78\n",
       "\n",
       "Number of Fisher Scoring iterations: 4\n"
      ]
     },
     "metadata": {},
     "output_type": "display_data"
    }
   ],
   "source": [
    "m <- glm(dm ~ gender, family=binomial (link=logit))\n",
    "summary(m)"
   ]
  },
  {
   "cell_type": "markdown",
   "metadata": {},
   "source": [
    "### Analysis of gender logistic regression\n",
    "\n",
    "Here, the log odds for having diabetes for males is 0.0869 higher than that for females. This is also the log odds ratio for males compared with females. Again, if we exponentiate 0.0869, we get the odds ratio for males compared with females, which is 1.09 (to two decimal places). That implies higher odds for males, but we need to inspect the p value, which is 0.759. That’s pretty high and well above the conventional threshold of 0.05, so chance is a likely explanation for the result and we can conclude that we don’t have any good evidence of a gender difference in diabetes odds in this sample."
   ]
  },
  {
   "cell_type": "code",
   "execution_count": 132,
   "metadata": {},
   "outputs": [
    {
     "data": {
      "text/plain": [
       "\n",
       "Call:\n",
       "glm(formula = dm ~ age, family = binomial(link = logit))\n",
       "\n",
       "Deviance Residuals: \n",
       "    Min       1Q   Median       3Q      Max  \n",
       "-1.3612  -0.5963  -0.4199  -0.3056   2.4848  \n",
       "\n",
       "Coefficients:\n",
       "             Estimate Std. Error z value Pr(>|z|)    \n",
       "(Intercept) -4.404530   0.542828  -8.114 4.90e-16 ***\n",
       "age          0.052465   0.009388   5.589 2.29e-08 ***\n",
       "---\n",
       "Signif. codes:  0 ‘***’ 0.001 ‘**’ 0.01 ‘*’ 0.05 ‘.’ 0.1 ‘ ’ 1\n",
       "\n",
       "(Dispersion parameter for binomial family taken to be 1)\n",
       "\n",
       "    Null deviance: 334.87  on 389  degrees of freedom\n",
       "Residual deviance: 299.41  on 388  degrees of freedom\n",
       "  (13 observations deleted due to missingness)\n",
       "AIC: 303.41\n",
       "\n",
       "Number of Fisher Scoring iterations: 5\n"
      ]
     },
     "metadata": {},
     "output_type": "display_data"
    }
   ],
   "source": [
    "m <- glm(dm ~ age, family=binomial (link=logit))\n",
    "summary(m)"
   ]
  },
  {
   "cell_type": "markdown",
   "metadata": {},
   "source": [
    "R will know to fit age as a continuous variable because you haven’t told it that it’s categorical."
   ]
  },
  {
   "cell_type": "code",
   "execution_count": 133,
   "metadata": {},
   "outputs": [],
   "source": [
    "dm_by_age<- table(age, dm, exclude = NULL)"
   ]
  },
  {
   "cell_type": "code",
   "execution_count": 134,
   "metadata": {
    "scrolled": true
   },
   "outputs": [
    {
     "data": {
      "image/png": "[encoded data removed]",
      "text/plain": [
       "plot without title"
      ]
     },
     "metadata": {},
     "output_type": "display_data"
    }
   ],
   "source": [
    "# output the frequencies of diabetes status by age \n",
    "freq_table <- prop.table(dm_by_age, margin = 1) \n",
    " \n",
    "# calculate the odds of having diabetes \n",
    "odds <- freq_table[, \"yes\"]/freq_table[, \"no\"] \n",
    " \n",
    "# calculate the log odds \n",
    "logodds <- log(odds) \n",
    " \n",
    "# plot the ages found in the sample against the log odds of having diabetes \n",
    "plot(rownames(freq_table), logodds) "
   ]
  },
  {
   "cell_type": "code",
   "execution_count": 139,
   "metadata": {},
   "outputs": [],
   "source": [
    "dm_by_gender<- table(dm, gender, exclude = NULL)"
   ]
  },
  {
   "cell_type": "markdown",
   "metadata": {},
   "source": [
    "### Analysis\n",
    "The main thing of interest is the coefficients"
   ]
  },
  {
   "cell_type": "markdown",
   "metadata": {},
   "source": [
    "R prints out all the coefficients on the scale on which the algorithm did its magic, i.e. the log scale in the case of logistic regression as we are modelling the log odds of having diabetes."
   ]
  },
  {
   "cell_type": "markdown",
   "metadata": {},
   "source": [
    "With this rather unexciting null model, we are saying that the log odds of having diabetes is -1.7047 and that it’s the same for every patient. What does that mean? To interpret this, we first need to exponentiate it to get the odds of having diabetes. To do this, type:\n",
    "\n"
   ]
  },
  {
   "cell_type": "code",
   "execution_count": 140,
   "metadata": {},
   "outputs": [
    {
     "data": {
      "text/html": [
       "0.181826926071796"
      ],
      "text/latex": [
       "0.181826926071796"
      ],
      "text/markdown": [
       "0.181826926071796"
      ],
      "text/plain": [
       "[1] 0.1818269"
      ]
     },
     "metadata": {},
     "output_type": "display_data"
    }
   ],
   "source": [
    "exp(-1.7047)  #0.182/1.182 = 0.15, or 15%"
   ]
  },
  {
   "cell_type": "code",
   "execution_count": 141,
   "metadata": {},
   "outputs": [
    {
     "data": {
      "text/plain": [
       "dm\n",
       " no yes \n",
       "330  60 "
      ]
     },
     "metadata": {},
     "output_type": "display_data"
    }
   ],
   "source": [
    "table(dm)"
   ]
  },
  {
   "cell_type": "markdown",
   "metadata": {},
   "source": [
    "Using these numbers, the odds of having diabetes is 60/330 = 0.182 and the probability is 60/(330+60) = 0.15, both exactly the same as from the model, which is entirely as we had expected (and hoped!)."
   ]
  },
  {
   "cell_type": "markdown",
   "metadata": {},
   "source": [
    "#### Analysis for age logistic regression\n",
    "\n",
    "Let’s go on and look at the coefficients. This time there are two: the intercept and one for age. Now, with a predictor (age in this case) in the model, the intercept is no longer the overall crude log odds but is instead the log odds of diabetes when age is zero. This follows from the equation for the model:\n",
    "\n",
    "Log odds of having diabetes= intercept + (coefficient for age) * age in years\n",
    "\n",
    "= -4.4045 + 0.0525 * age in years\n",
    "\n",
    "\n",
    "If age in years is zero, then we only have the intercept left. At birth, the model is saying that the log odds of having diabetes is -4.4045, which is 0.012 when exponentiated to give us the odds. If you prefer to think in probabilities, then we can convert this as before to give us 0.012/1.012 = 0.012 (to three decimal places) or 1.2%, which is pretty much the same as the odds. As you saw earlier, when odds are small, they’re really similar to probabilities."
   ]
  },
  {
   "cell_type": "markdown",
   "metadata": {},
   "source": [
    "So how do we interpret the coefficient for age? It’s the increase in log odds of having diabetes for a one-year increase in age. A linear relation is assumed between age and the log odds. It’s assumed, therefore, that the log odds if you’re 25 is 0.0525 higher than if you’re 24 and that the log odds if you’re 75 is 0.0525 higher than if you’re 74. One of the nice things about working on the log scale is that the difference between two log odds and the ratio of two log odds are the same mathematically:\n",
    "\n",
    "the log odds if you’re 25 minus the log odds if you’re 24 is 0.0525\n",
    "the log odds if you’re 25 divided by the log odds if you’re 24 is 0.0525\n"
   ]
  },
  {
   "cell_type": "markdown",
   "metadata": {},
   "source": [
    "When we exponentiate 0.0525 we get 1.05 (to two decimal places). This is an odds ratio, which is generally what’s reported when running logistic regression models (and is generally reported to two decimal places). It’s the ratio of the odds of having diabetes if you’re 25 divided by the odds of having diabetes if you’re 24. Or that if you’re 75 divided by that if you’re 74 etc. It’s the amount by which your odds increases when you get a year older. So getting older is bad news, at least in terms of diabetes, which is what we expected.\n",
    "\n"
   ]
  },
  {
   "cell_type": "markdown",
   "metadata": {},
   "source": [
    "The p value for age is given in the “Pr(>|z|)” column and is really tiny. R also uses an asterisk system to point out the size of the p values. Age has three asterisks, meaning close to zero, so it’s not compatible with a chance result. \n",
    "#### Age is a statistically significant predictor."
   ]
  },
  {
   "cell_type": "markdown",
   "metadata": {},
   "source": [
    "## Exam Questions"
   ]
  },
  {
   "cell_type": "code",
   "execution_count": 145,
   "metadata": {},
   "outputs": [],
   "source": [
    "location<-Diabetes$location"
   ]
  },
  {
   "cell_type": "code",
   "execution_count": 156,
   "metadata": {},
   "outputs": [],
   "source": [
    "dm_by_location <- table(location, dm, exclude = NA) "
   ]
  },
  {
   "cell_type": "code",
   "execution_count": 157,
   "metadata": {},
   "outputs": [
    {
     "data": {
      "text/plain": [
       "            dm\n",
       "location      no yes\n",
       "  Buckingham 159  31\n",
       "  Louisa     171  29"
      ]
     },
     "metadata": {},
     "output_type": "display_data"
    }
   ],
   "source": [
    "dm_by_location"
   ]
  },
  {
   "cell_type": "code",
   "execution_count": 158,
   "metadata": {},
   "outputs": [
    {
     "data": {
      "text/plain": [
       "            dm\n",
       "location       no  yes\n",
       "  Buckingham 83.7 16.3\n",
       "  Louisa     85.5 14.5"
      ]
     },
     "metadata": {},
     "output_type": "display_data"
    }
   ],
   "source": [
    "round(100 * prop.table(dm_by_location, margin = 1), digits = 1)"
   ]
  },
  {
   "cell_type": "code",
   "execution_count": 159,
   "metadata": {},
   "outputs": [
    {
     "data": {
      "text/plain": [
       "\n",
       "Call:\n",
       "glm(formula = dm ~ location, family = binomial(link = logit))\n",
       "\n",
       "Deviance Residuals: \n",
       "    Min       1Q   Median       3Q      Max  \n",
       "-0.5969  -0.5969  -0.5597  -0.5597   1.9652  \n",
       "\n",
       "Coefficients:\n",
       "               Estimate Std. Error z value Pr(>|z|)    \n",
       "(Intercept)     -1.6349     0.1963  -8.327   <2e-16 ***\n",
       "locationLouisa  -0.1395     0.2809  -0.497     0.62    \n",
       "---\n",
       "Signif. codes:  0 ‘***’ 0.001 ‘**’ 0.01 ‘*’ 0.05 ‘.’ 0.1 ‘ ’ 1\n",
       "\n",
       "(Dispersion parameter for binomial family taken to be 1)\n",
       "\n",
       "    Null deviance: 334.87  on 389  degrees of freedom\n",
       "Residual deviance: 334.63  on 388  degrees of freedom\n",
       "  (13 observations deleted due to missingness)\n",
       "AIC: 338.63\n",
       "\n",
       "Number of Fisher Scoring iterations: 4\n"
      ]
     },
     "metadata": {},
     "output_type": "display_data"
    }
   ],
   "source": [
    "l<-glm(dm~location, family=binomial (link=logit))\n",
    "summary(l)"
   ]
  },
  {
   "cell_type": "markdown",
   "metadata": {},
   "source": [
    "Log odds for Louisianna are -0.14 'higher' than Buckingham"
   ]
  },
  {
   "cell_type": "code",
   "execution_count": 160,
   "metadata": {},
   "outputs": [
    {
     "data": {
      "text/html": [
       "0.869793023204399"
      ],
      "text/latex": [
       "0.869793023204399"
      ],
      "text/markdown": [
       "0.869793023204399"
      ],
      "text/plain": [
       "[1] 0.869793"
      ]
     },
     "metadata": {},
     "output_type": "display_data"
    }
   ],
   "source": [
    "exp(-0.1395) #TO GET THE odds of having diabetes being from Louisa compared with Buckingham?"
   ]
  },
  {
   "cell_type": "markdown",
   "metadata": {},
   "source": [
    "P is 0.62 so location is not stat sig predictor of diabetes in our sample"
   ]
  },
  {
   "cell_type": "markdown",
   "metadata": {},
   "source": [
    "What are the log odds of having diabetes being from Louisa compared with Buckingham? \n",
    "-0.14"
   ]
  }
 ],
 "metadata": {
  "kernelspec": {
   "display_name": "R",
   "language": "R",
   "name": "ir"
  },
  "language_info": {
   "codemirror_mode": "r",
   "file_extension": ".r",
   "mimetype": "text/x-r-source",
   "name": "R",
   "pygments_lexer": "r",
   "version": "3.6.1"
  }
 },
 "nbformat": 4,
 "nbformat_minor": 2
}
